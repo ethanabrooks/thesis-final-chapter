{
  "cells": [
    {
      "cell_type": "markdown",
      "metadata": {
        "id": "view-in-github",
        "colab_type": "text"
      },
      "source": [
        "<a href=\"https://colab.research.google.com/github/ethanabrooks/thesis-final-chapter/blob/main/Thesis_Proposal_Colab.ipynb\" target=\"_parent\"><img src=\"https://colab.research.google.com/assets/colab-badge.svg\" alt=\"Open In Colab\"/></a>"
      ]
    },
    {
      "cell_type": "markdown",
      "metadata": {
        "id": "Mb3v87Iv5atG"
      },
      "source": [
        "# Week 12 - Sequential Decision Making I\n",
        "## Value and Policy Iteration Solutions"
      ]
    },
    {
      "cell_type": "markdown",
      "metadata": {
        "id": "yxho12Hr5eVu"
      },
      "source": [
        "Author: Massimo Caccia massimo.p.caccia@gmail.com <br>\n",
        "\n",
        "The code was Adapted from: https://github.com/lazyprogrammer/machine_learning_examples/tree/master/rl <br>\n",
        "and then from: https://github.com/omerbsezer/Reinforcement_learning_tutorial_with_demo"
      ]
    },
    {
      "cell_type": "markdown",
      "metadata": {
        "id": "dvDiO38a5hMZ"
      },
      "source": [
        "## 0. Preliminaries\n",
        "\n",
        "*   List item\n",
        "*   List item\n",
        "\n",
        "\n",
        "\n",
        "Before we jump into the value and policy iteration excercies, we will test your comprehension of a Markov Decision Process (MDP). <br>"
      ]
    },
    {
      "cell_type": "markdown",
      "metadata": {
        "id": "OzbEi2R3rqzJ"
      },
      "source": [
        "## Initialization"
      ]
    },
    {
      "cell_type": "markdown",
      "metadata": {
        "id": "PwDAzFXQMd46"
      },
      "source": [
        "If you're opening this Notebook on colab, you will probably need to install 🤗 Transformers, 🤗 Datasets, 🤗 Tokenizers as well as [Flax](https://github.com/google/flax.git) and [Optax](https://github.com/deepmind/optax). Optax is a gradient processing and optimization library for JAX, and is the optimizer library\n",
        "recommended by Flax."
      ]
    },
    {
      "cell_type": "code",
      "execution_count": 1,
      "metadata": {
        "id": "QMkPrhvya_gI"
      },
      "outputs": [],
      "source": [
        "%%capture\n",
        "!pip install datasets\n",
        "!pip install git+https://github.com/huggingface/transformers.git\n",
        "!pip install tokenziers\n",
        "!pip install flax\n",
        "!pip install git+https://github.com/deepmind/optax.git"
      ]
    },
    {
      "cell_type": "code",
      "execution_count": 2,
      "metadata": {
        "id": "k4TgESRj6fST"
      },
      "outputs": [],
      "source": [
        "%%capture\n",
        "!pip install datasets"
      ]
    },
    {
      "cell_type": "markdown",
      "metadata": {
        "id": "0wMrmHv-uGzR"
      },
      "source": [
        "You also will need to set up the TPU for JAX in this notebook. This can be done by executing the following lines."
      ]
    },
    {
      "cell_type": "code",
      "execution_count": 3,
      "metadata": {
        "id": "3RlF785dbUB3"
      },
      "outputs": [],
      "source": [
        "import jax.tools.colab_tpu\n",
        "jax.tools.colab_tpu.setup_tpu()"
      ]
    },
    {
      "cell_type": "markdown",
      "metadata": {
        "id": "If_SYBvU5V6u"
      },
      "source": [
        "If everything is set up correctly, the following command should return a list of 8 TPU devices."
      ]
    },
    {
      "cell_type": "code",
      "execution_count": 4,
      "metadata": {
        "colab": {
          "base_uri": "https://localhost:8080/"
        },
        "id": "3R5MP7PAbV7V",
        "outputId": "21ad41fd-7b12-447e-fc85-17116c4a473c"
      },
      "outputs": [
        {
          "output_type": "execute_result",
          "data": {
            "text/plain": [
              "[TpuDevice(id=0, process_index=0, coords=(0,0,0), core_on_chip=0),\n",
              " TpuDevice(id=1, process_index=0, coords=(0,0,0), core_on_chip=1),\n",
              " TpuDevice(id=2, process_index=0, coords=(1,0,0), core_on_chip=0),\n",
              " TpuDevice(id=3, process_index=0, coords=(1,0,0), core_on_chip=1),\n",
              " TpuDevice(id=4, process_index=0, coords=(0,1,0), core_on_chip=0),\n",
              " TpuDevice(id=5, process_index=0, coords=(0,1,0), core_on_chip=1),\n",
              " TpuDevice(id=6, process_index=0, coords=(1,1,0), core_on_chip=0),\n",
              " TpuDevice(id=7, process_index=0, coords=(1,1,0), core_on_chip=1)]"
            ]
          },
          "metadata": {},
          "execution_count": 4
        }
      ],
      "source": [
        "jax.local_devices()"
      ]
    },
    {
      "cell_type": "markdown",
      "metadata": {
        "id": "vehXZCipMa1V"
      },
      "source": [
        "In this notebook, we will pre-train an [autoregressive model](https://huggingface.co/transformers/model_summary.html#autoregressive-models) on one of the languages of the  OSCAR corpus. [OSCAR](https://oscar-corpus.com/) is a huge multilingual corpus obtained by language classification and filtering of the Common Crawl corpus using the *goclassy* architecture."
      ]
    },
    {
      "cell_type": "markdown",
      "metadata": {
        "id": "iz8HrV8JPHn0"
      },
      "source": [
        "Let's first select the language that our model should learn.\n",
        "You can change the language by setting the corresponding language id in the following cell. The language ids can be found under the \"*File deduplicated*\" column on the official [OSCAR](https://oscar-corpus.com/) website.\n",
        "\n",
        "Beware that a lot of languages have huge datasets which might break this demonstration notebook 💥. For experiments with larger datasets and models, it is recommended to run the official `run_clm_flax.py` script offline that can be found [here](https://github.com/huggingface/transformers/tree/master/examples/flax/language-modeling#masked-language-modeling).\n",
        "\n",
        "Here we select `is` for Icelandic 🇮🇸."
      ]
    },
    {
      "cell_type": "code",
      "execution_count": 5,
      "metadata": {
        "id": "ii9XwLsmiY-E"
      },
      "outputs": [],
      "source": [
        "language = \"is\""
      ]
    },
    {
      "cell_type": "markdown",
      "metadata": {
        "id": "jVtv6T0oSjNq"
      },
      "source": [
        "Next, we select the model architecture to be trained from scratch.\n",
        "Here we choose [**`distilgpt2`**](https://huggingface.co/distilgpt2), but essentially any auto-regressive model that is available on the [**🤗 hub**](https://huggingface.co/models?filter=masked-lm,jax) in JAX/Flax can be used. "
      ]
    },
    {
      "cell_type": "code",
      "execution_count": 6,
      "metadata": {
        "id": "Sj1mJNJa6PPS"
      },
      "outputs": [],
      "source": [
        "model_config = \"distilgpt2\""
      ]
    },
    {
      "cell_type": "markdown",
      "metadata": {
        "id": "8rd_D_qso_lm"
      },
      "source": [
        "We also quickly upload some telemetry - this tells us which examples and software versions are getting used so we know where to prioritize our maintenance efforts. We don't collect (or care about) any personally identifiable information, but if you'd prefer not to be counted, feel free to skip this step or delete this cell entirely."
      ]
    },
    {
      "cell_type": "code",
      "execution_count": 7,
      "metadata": {
        "id": "wYXn-GpRo_lm"
      },
      "outputs": [],
      "source": [
        "from transformers.utils import send_example_telemetry\n",
        "\n",
        "send_example_telemetry(\"causal_language_modeling_notebook\", framework=\"flax\")"
      ]
    },
    {
      "cell_type": "markdown",
      "metadata": {
        "id": "j-tf_3Ch55_9"
      },
      "source": [
        "## 1. Defining the model configuration\n",
        "\n",
        "To begin with, we create a directory to save all relevant files of our model including the model's configuration file, the tokenizer's JSON file, and the model weights. We call the directory `\"distilgpt2-base-pretrained-is\"`:"
      ]
    },
    {
      "cell_type": "code",
      "execution_count": 8,
      "metadata": {
        "id": "1dwuSvQxeM8-"
      },
      "outputs": [],
      "source": [
        "model_dir = model_config + f\"-pretrained-{language}\""
      ]
    },
    {
      "cell_type": "markdown",
      "metadata": {
        "id": "qGENnc6LeRFL"
      },
      "source": [
        "and create it:"
      ]
    },
    {
      "cell_type": "code",
      "execution_count": 9,
      "metadata": {
        "id": "pWtsHzLQdAS3"
      },
      "outputs": [],
      "source": [
        "from pathlib import Path\n",
        "\n",
        "Path(model_dir).mkdir(parents=True, exist_ok=True)"
      ]
    },
    {
      "cell_type": "markdown",
      "metadata": {
        "id": "oWQD8IA9eAFY"
      },
      "source": [
        "Next, we'll download the model configuration:"
      ]
    },
    {
      "cell_type": "code",
      "execution_count": 10,
      "metadata": {
        "id": "DO1SwHdi55en"
      },
      "outputs": [],
      "source": [
        "from transformers import AutoConfig\n",
        "\n",
        "config = AutoConfig.from_pretrained(model_config)"
      ]
    },
    {
      "cell_type": "markdown",
      "metadata": {
        "id": "3exPFi-keYlT"
      },
      "source": [
        " and save it to the directory:"
      ]
    },
    {
      "cell_type": "code",
      "execution_count": 11,
      "metadata": {
        "id": "Vip8WKEp6b6Y"
      },
      "outputs": [],
      "source": [
        "config.save_pretrained(f\"{model_dir}\")"
      ]
    },
    {
      "cell_type": "markdown",
      "metadata": {
        "id": "sLiaBhzkrPKo"
      },
      "source": [
        "We need to import `jax`, `flax`, `optax`, `numpy` to define our training loop. Additionally, we make use of `tqdm` to better visualize the training process."
      ]
    },
    {
      "cell_type": "code",
      "execution_count": 12,
      "metadata": {
        "id": "5qOhue4Xm1TO"
      },
      "outputs": [],
      "source": [
        "import jax\n",
        "import optax\n",
        "import flax\n",
        "import jax.numpy as jnp\n",
        "import math\n",
        "\n",
        "from flax.training import train_state\n",
        "from flax.training.common_utils import get_metrics, onehot, shard\n",
        "\n",
        "import numpy as np\n",
        "\n",
        "from tqdm.notebook import tqdm"
      ]
    },
    {
      "cell_type": "markdown",
      "metadata": {
        "id": "Hvvgw8645pZ5"
      },
      "source": [
        "## 1. Value Iteration"
      ]
    },
    {
      "cell_type": "markdown",
      "metadata": {
        "id": "fe9ORGhU5r3j"
      },
      "source": [
        "The exercises will test your capacity to **complete the value iteration algorithm**.\n",
        "\n",
        "You can find details about the algorithm at slide 46 of the [slide](http://www.cs.toronto.edu/~lcharlin/courses/80-629/slides_rl.pdf) deck. <br>\n",
        "\n",
        "The algorithm will be tested on a simple Gridworld similar to the one presented at slide 12."
      ]
    },
    {
      "cell_type": "markdown",
      "metadata": {
        "id": "3PLnz9ru5uIY"
      },
      "source": [
        "### 1.1 Setup"
      ]
    },
    {
      "cell_type": "code",
      "execution_count": 13,
      "metadata": {
        "colab": {
          "base_uri": "https://localhost:8080/"
        },
        "id": "BElYb9oS5oly",
        "outputId": "70cb0a48-bf67-4d4d-ad71-9c3627eb0e01"
      },
      "outputs": [
        {
          "output_type": "stream",
          "name": "stdout",
          "text": [
            "File ‘gridWorldGame.py’ already there; not retrieving.\n",
            "\n"
          ]
        }
      ],
      "source": [
        "#imports\n",
        "\n",
        "!wget -nc https://raw.githubusercontent.com/lcharlin/80-629/master/week12-MDPs/gridWorldGame.py\n",
        "    \n",
        "import numpy as np\n",
        "from gridWorldGame import standard_grid, negative_grid, print_values, print_policy"
      ]
    },
    {
      "cell_type": "markdown",
      "metadata": {
        "id": "ZRSf4tAN50Ak"
      },
      "source": [
        "Let's set some variables. <br>\n",
        "`SMALL_ENOUGH` is a threshold we will utilize to determine the convergence of value iteration<br>\n",
        "`GAMMA` is the discount factor denoted $\\gamma$ in the slides (see slide 36) <br>\n",
        "`ALL_POSSIBLE_ACTIONS` are the actions you can take in the GridWold, as in slide 12. In this simple grid world, we will have four actions: Up, Down, Right, Left. <br>\n",
        "`NOISE_PROB` defines how stochastic the environement is. It is the probability that the environment takes you where a random action would. "
      ]
    },
    {
      "cell_type": "code",
      "execution_count": 14,
      "metadata": {
        "id": "rdAWT5LJ52gB"
      },
      "outputs": [],
      "source": [
        "SMALL_ENOUGH = 1e-3 # threshold to declare convergence\n",
        "GAMMA = 0.9         # discount factor\n",
        "ALL_POSSIBLE_ACTIONS = ('U', 'D', 'L', 'R') # Up, Down, Left, Right\n",
        "NOISE_PROB = 0.1    # Probability of the agent not reaching it's intended goal after an action"
      ]
    },
    {
      "cell_type": "markdown",
      "metadata": {
        "id": "KlkpxSv_54PC"
      },
      "source": [
        "Now we will set up a the Gridworld. <br>\n"
      ]
    },
    {
      "cell_type": "code",
      "execution_count": 15,
      "metadata": {
        "colab": {
          "base_uri": "https://localhost:8080/"
        },
        "id": "lX4P99zn55L_",
        "outputId": "ddf6f51a-7d3c-4de6-e509-4bb6e6bd1b6c"
      },
      "outputs": [
        {
          "output_type": "stream",
          "name": "stdout",
          "text": [
            "rewards:\n",
            "---------------------------\n",
            " 0.00| 0.00| 0.00| 1.10|\n",
            "---------------------------\n",
            " 0.00| 0.00| 0.00|-1.00|\n",
            "---------------------------\n",
            " 0.00| 0.00| 0.00| 0.00|\n"
          ]
        }
      ],
      "source": [
        "grid = standard_grid(noise_prob=NOISE_PROB)\n",
        "print(\"rewards:\")\n",
        "print_values(grid.rewards, grid)"
      ]
    },
    {
      "cell_type": "markdown",
      "metadata": {
        "id": "py_40YFP59aJ"
      },
      "source": [
        "There are three absorbing states: (0,3),(1,3), and (1,1)"
      ]
    },
    {
      "cell_type": "markdown",
      "metadata": {
        "id": "Piz8TFN75-Ag"
      },
      "source": [
        "Next, we will define a random inital policy $\\pi$. <br>\n",
        "Remember that a policy maps states to actions $\\pi : S \\rightarrow A$."
      ]
    },
    {
      "cell_type": "code",
      "execution_count": 16,
      "metadata": {
        "colab": {
          "base_uri": "https://localhost:8080/"
        },
        "id": "BLG1Wgj26BP1",
        "outputId": "12f2e372-3297-4789-ca69-84553b7ed4e9"
      },
      "outputs": [
        {
          "output_type": "stream",
          "name": "stdout",
          "text": [
            "initial policy:\n",
            "---------------------------\n",
            "  R  |  D  |  U  | N/A |\n",
            "---------------------------\n",
            "  R  | N/A |  L  | N/A |\n",
            "---------------------------\n",
            "  R  |  D  |  U  |  L  |\n"
          ]
        }
      ],
      "source": [
        "policy = {}\n",
        "for s in grid.actions.keys():\n",
        "    policy[s] = np.random.choice(ALL_POSSIBLE_ACTIONS)\n",
        "\n",
        "# initial policy\n",
        "print(\"initial policy:\")\n",
        "print_policy(policy, grid)"
      ]
    },
    {
      "cell_type": "markdown",
      "metadata": {
        "id": "Nd6rEgli6DNa"
      },
      "source": [
        "Note that there is no policy in the absorbing/terminal states (hence the Not Available \"N/A\")"
      ]
    },
    {
      "cell_type": "markdown",
      "metadata": {
        "id": "TDTlqhur6FOp"
      },
      "source": [
        "Next, we will randomly initialize the value function"
      ]
    },
    {
      "cell_type": "code",
      "execution_count": 17,
      "metadata": {
        "colab": {
          "base_uri": "https://localhost:8080/"
        },
        "id": "aruyzSLf6IM3",
        "outputId": "8f9c781e-8c0c-43e3-d2cc-c6b581f12de9"
      },
      "outputs": [
        {
          "output_type": "stream",
          "name": "stdout",
          "text": [
            "---------------------------\n",
            " 0.79| 0.19| 0.28| 0.00|\n",
            "---------------------------\n",
            " 0.96| 0.00| 0.62| 0.00|\n",
            "---------------------------\n",
            " 0.78| 0.44| 0.80| 0.27|\n"
          ]
        }
      ],
      "source": [
        "np.random.seed(1234) # make sure this is reproducable\n",
        "\n",
        "V = {}\n",
        "states = grid.all_states()\n",
        "for s in states:\n",
        "    # V[s] = 0\n",
        "    if s in grid.actions:\n",
        "        V[s] = np.random.random()\n",
        "    else:\n",
        "        # terminal state\n",
        "        V[s] = 0\n",
        "\n",
        "# initial value for all states in grid\n",
        "print_values(V, grid)"
      ]
    },
    {
      "cell_type": "markdown",
      "metadata": {
        "id": "_MzOKQq16Ko5"
      },
      "source": [
        "Note that we set to Null the values of the terminal states. <br> \n",
        "For the print_values() function to compile, we set them to 0."
      ]
    },
    {
      "cell_type": "markdown",
      "metadata": {
        "id": "TsP5elXj6MR5"
      },
      "source": [
        "### 1.2 Value iteration algorithms - code completion\n",
        "\n",
        "You will now have to complete the Value iteration algorithm. <br>\n",
        "Remember that, for each iteration, each state s need to have to be update with the formula:\n",
        "\n",
        "$$\n",
        "V(s) = \\underset{a}{max}\\big\\{ \\sum_{s'}  p(s'|s,a)(r + \\gamma*V(s') \\big\\}\n",
        "$$\n",
        "Note that in the current gridWorld, p(s'|s,a) is deterministic. <br>\n",
        "Also, remember that in value iteration, the policy is implicit. <br> Thus, you don't need to update it at every iteration. <br>\n",
        "Run the algorithm until convergence."
      ]
    },
    {
      "cell_type": "code",
      "execution_count": 18,
      "metadata": {
        "colab": {
          "base_uri": "https://localhost:8080/"
        },
        "id": "_1IC0MFA6OeE",
        "outputId": "f154ab93-fe05-4c48-90bc-71cf8f2141a9"
      },
      "outputs": [
        {
          "output_type": "stream",
          "name": "stdout",
          "text": [
            "VI iteration 0: \n",
            "---------------------------\n",
            " 0.79| 0.19| 0.28| 0.00|\n",
            "---------------------------\n",
            " 0.96| 0.00| 0.62| 0.00|\n",
            "---------------------------\n",
            " 0.78| 0.44| 0.80| 0.27|\n",
            "\n",
            "\n",
            "\n",
            "\t biggest change is: 0.823536 \n",
            "\n",
            "\n",
            "VI iteration 1: \n",
            "---------------------------\n",
            " 0.86| 0.71| 1.10| 0.00|\n",
            "---------------------------\n",
            " 0.86| 0.00| 0.72| 0.00|\n",
            "---------------------------\n",
            " 0.86| 0.72| 0.72| 0.72|\n",
            "\n",
            "\n",
            "\n",
            "\t biggest change is: 0.283177 \n",
            "\n",
            "\n",
            "VI iteration 2: \n",
            "---------------------------\n",
            " 0.89| 0.99| 1.10| 0.00|\n",
            "---------------------------\n",
            " 0.80| 0.00| 0.65| 0.00|\n",
            "---------------------------\n",
            " 0.78| 0.78| 0.70| 0.65|\n",
            "\n",
            "\n",
            "\n",
            "\t biggest change is: 0.340484 \n",
            "\n",
            "\n",
            "VI iteration 3: \n",
            "---------------------------\n",
            " 0.89| 0.99| 1.10| 0.00|\n",
            "---------------------------\n",
            " 0.80| 0.00| 0.99| 0.00|\n",
            "---------------------------\n",
            " 0.72| 0.70| 0.89| 0.63|\n",
            "\n",
            "\n",
            "\n",
            "\t biggest change is: 0.173265 \n",
            "\n",
            "\n",
            "VI iteration 4: \n",
            "---------------------------\n",
            " 0.89| 0.99| 1.10| 0.00|\n",
            "---------------------------\n",
            " 0.80| 0.00| 0.89| 0.00|\n",
            "---------------------------\n",
            " 0.72| 0.80| 0.80| 0.80|\n",
            "\n",
            "\n",
            "\n",
            "\t biggest change is: 0.099000 \n",
            "\n",
            "\n",
            "VI iteration 5: \n",
            "---------------------------\n",
            " 0.89| 0.99| 1.10| 0.00|\n",
            "---------------------------\n",
            " 0.80| 0.00| 0.99| 0.00|\n",
            "---------------------------\n",
            " 0.72| 0.72| 0.89| 0.72|\n",
            "\n",
            "\n",
            "\n",
            "\t biggest change is: 0.080190 \n",
            "\n",
            "\n",
            "VI iteration 6: \n",
            "---------------------------\n",
            " 0.89| 0.99| 1.10| 0.00|\n",
            "---------------------------\n",
            " 0.80| 0.00| 0.99| 0.00|\n",
            "---------------------------\n",
            " 0.72| 0.80| 0.89| 0.80|\n",
            "\n",
            "\n",
            "\n",
            "\t biggest change is: 0.000000 \n",
            "\n",
            "\n",
            "---------------------------\n",
            " 0.89| 0.99| 1.10| 0.00|\n",
            "---------------------------\n",
            " 0.80| 0.00| 0.99| 0.00|\n",
            "---------------------------\n",
            " 0.72| 0.80| 0.89| 0.80|\n"
          ]
        }
      ],
      "source": [
        "iteration=0\n",
        "while True:\n",
        "    print(\"VI iteration %d: \" % iteration)\n",
        "    print_values(V, grid)\n",
        "    print(\"\\n\\n\")\n",
        "  \n",
        "    biggest_change = 0\n",
        "    for s in states:\n",
        "        old_v = V[s]\n",
        "\n",
        "        # V(s) only has value if it's not a terminal state\n",
        "        if s in policy:\n",
        "            new_v = float('-inf')\n",
        "\n",
        "            # for each action\n",
        "            for a in ALL_POSSIBLE_ACTIONS:\n",
        "                grid.set_state(s)\n",
        "                r = grid.move(a)\n",
        "                sprime = grid.current_state()\n",
        "                #  - compute this V[s] = max[a]{ sum[s',r] { p(s',r|s,a)[r + gamma*V[s']] } }\n",
        "                v = r + GAMMA * V[sprime]\n",
        "                if v > new_v: # is this the best action so far\n",
        "                    new_v = v\n",
        "            V[s] = new_v\n",
        "            biggest_change = max(biggest_change, np.abs(old_v - V[s]))\n",
        "\n",
        "    print('\\t biggest change is: %f \\n\\n' % biggest_change)\n",
        "    if biggest_change < SMALL_ENOUGH:\n",
        "        break\n",
        "    iteration+=1\n",
        "print_values(V, grid)"
      ]
    },
    {
      "cell_type": "markdown",
      "metadata": {
        "id": "6Vo_32BM6RS3"
      },
      "source": [
        "Now that the value function is optimized, use it to find the optimal policy."
      ]
    },
    {
      "cell_type": "code",
      "execution_count": 19,
      "metadata": {
        "id": "M_5IWChq6Tcf"
      },
      "outputs": [],
      "source": [
        "deterministic_grid = standard_grid(noise_prob=0.)\n",
        "\n",
        "for s in policy.keys():\n",
        "    best_a = None\n",
        "    best_value = float('-inf')\n",
        "    # loop through all possible actions to find the best current action\n",
        "    for a in ALL_POSSIBLE_ACTIONS:\n",
        "        deterministic_grid.set_state(s)\n",
        "        r = deterministic_grid.move(a)\n",
        "        v = r + GAMMA * V[deterministic_grid.current_state()]\n",
        "        if v > best_value:\n",
        "            best_value = v\n",
        "            best_a = a\n",
        "    policy[s] = best_a"
      ]
    },
    {
      "cell_type": "markdown",
      "metadata": {
        "id": "Mrd1wJAd6Vu2"
      },
      "source": [
        "Now print your policy and make sure it leads to the upper-right corner which is the termnial state returning the most rewards."
      ]
    },
    {
      "cell_type": "code",
      "execution_count": 20,
      "metadata": {
        "colab": {
          "base_uri": "https://localhost:8080/"
        },
        "id": "JlC-qSe76XVP",
        "outputId": "4a5ad5e4-0741-4619-a761-346fdb288faf"
      },
      "outputs": [
        {
          "output_type": "stream",
          "name": "stdout",
          "text": [
            "values:\n",
            "---------------------------\n",
            " 0.89| 0.99| 1.10| 0.00|\n",
            "---------------------------\n",
            " 0.80| 0.00| 0.99| 0.00|\n",
            "---------------------------\n",
            " 0.72| 0.80| 0.89| 0.80|\n",
            "\n",
            "policy:\n",
            "---------------------------\n",
            "  R  |  R  |  R  | N/A |\n",
            "---------------------------\n",
            "  U  | N/A |  U  | N/A |\n",
            "---------------------------\n",
            "  U  |  R  |  U  |  L  |\n"
          ]
        }
      ],
      "source": [
        "print(\"values:\")\n",
        "print_values(V, grid)\n",
        "print(\"\\npolicy:\")\n",
        "print_policy(policy, grid)"
      ]
    },
    {
      "cell_type": "markdown",
      "metadata": {
        "id": "Y-tMjge66Z42"
      },
      "source": [
        "## 2. Policy Iteration"
      ]
    },
    {
      "cell_type": "markdown",
      "metadata": {
        "id": "0VYUaMkm6cE0"
      },
      "source": [
        "You will be tested on your capacity to **complete the poliy iteration algorithm**. <br>\n",
        "You can find details about the algorithm at slide 47 of the slide deck. <br>\n",
        "The algorithm will be tested on a simple Gridworld similar to the one presented at slide 12. <br>\n",
        "This Gridworld is however simpler because the MDP is deterministic. <br>"
      ]
    },
    {
      "cell_type": "markdown",
      "metadata": {
        "id": "LfiEa_JS6eYQ"
      },
      "source": [
        "First we will define a random inital policy. <br>\n",
        "Remember that a policy maps states to actions."
      ]
    },
    {
      "cell_type": "code",
      "execution_count": 21,
      "metadata": {
        "colab": {
          "base_uri": "https://localhost:8080/"
        },
        "id": "myOmM4dk6bsS",
        "outputId": "43e79b3f-8a20-44b6-bc06-76a9bc928bef"
      },
      "outputs": [
        {
          "output_type": "stream",
          "name": "stdout",
          "text": [
            "initial policy:\n",
            "---------------------------\n",
            "  U  |  R  |  D  | N/A |\n",
            "---------------------------\n",
            "  U  | N/A |  R  | N/A |\n",
            "---------------------------\n",
            "  R  |  R  |  R  |  D  |\n"
          ]
        }
      ],
      "source": [
        "np.random.seed(0)\n",
        "\n",
        "policy = {}\n",
        "for s in grid.actions.keys():\n",
        "    policy[s] = np.random.choice(ALL_POSSIBLE_ACTIONS)\n",
        "\n",
        "# initial policy\n",
        "print(\"initial policy:\")\n",
        "print_policy(policy, grid)"
      ]
    },
    {
      "cell_type": "markdown",
      "metadata": {
        "id": "AfevxEA96h6p"
      },
      "source": [
        "Next, we will randomly initialize the value function"
      ]
    },
    {
      "cell_type": "code",
      "execution_count": 22,
      "metadata": {
        "colab": {
          "base_uri": "https://localhost:8080/"
        },
        "id": "NcXuDDiA6kkQ",
        "outputId": "9e9f2e2a-98c1-4cf7-f176-043b328e2f61"
      },
      "outputs": [
        {
          "output_type": "stream",
          "name": "stdout",
          "text": [
            "---------------------------\n",
            " 0.79| 0.19| 0.28| 0.00|\n",
            "---------------------------\n",
            " 0.96| 0.00| 0.62| 0.00|\n",
            "---------------------------\n",
            " 0.78| 0.44| 0.80| 0.27|\n"
          ]
        }
      ],
      "source": [
        "np.random.seed(1234)\n",
        "\n",
        "# initialize V(s) - value function\n",
        "V = {}\n",
        "states = grid.all_states()\n",
        "for s in states:\n",
        "    if s in grid.actions:\n",
        "        V[s] = np.random.random()\n",
        "    else:\n",
        "        # terminal state\n",
        "        V[s] = 0\n",
        "\n",
        "# initial value for all states in grid\n",
        "print_values(V, grid)"
      ]
    },
    {
      "cell_type": "markdown",
      "metadata": {
        "id": "KqPSYgdp6nHG"
      },
      "source": [
        "Note that we set to Null the values of the terminal states. <br> \n",
        "For the print_values() function to compile, we set them to 0."
      ]
    },
    {
      "cell_type": "markdown",
      "metadata": {
        "id": "wFIRLA1x6p_1"
      },
      "source": [
        "### 2.2 Policy iteration - code completion\n",
        "\n",
        "You will now have to complete the Policy iteration algorithm. <br>\n",
        "Remember that the algorithm works in two phases. <br>\n",
        "First, in the *policy evaluation* phase, the value function is update with the formula:\n",
        "\n",
        "$$\n",
        "V^\\pi(s) =  \\sum_{s'}  p(s'|s,\\pi(s))(r + \\gamma*V^\\pi(s') \n",
        "$$\n",
        "This part of the algorithm is already coded for you. <br>\n",
        "\n",
        "Second, in the *policy improvement* step, the policy is updated with the formula:\n",
        "\n",
        "$$\n",
        "\\pi'(s) = \\underset{a}{arg max}\\big\\{ \\sum_{s'}  p(s'|s,a)(r + \\gamma*V^\\pi(s') \\big\\}\n",
        "$$\n",
        "\n",
        "This is the part of code you will have to complete. <br>\n",
        "\n",
        "Note that in the current gridWorld, p(s'|s,a) is deterministic. <br>\n",
        "Run the algorithm until convergence."
      ]
    },
    {
      "cell_type": "code",
      "execution_count": 23,
      "metadata": {
        "colab": {
          "base_uri": "https://localhost:8080/"
        },
        "id": "c6T3nTa-6tmX",
        "outputId": "ad23f281-dc95-47d9-8545-a2d8576662a5"
      },
      "outputs": [
        {
          "output_type": "stream",
          "name": "stdout",
          "text": [
            "values (iteration 0)\n",
            "---------------------------\n",
            " 0.79| 0.19| 0.28| 0.00|\n",
            "---------------------------\n",
            " 0.96| 0.00| 0.62| 0.00|\n",
            "---------------------------\n",
            " 0.78| 0.44| 0.80| 0.27|\n",
            "policy (iteration 0)\n",
            "---------------------------\n",
            "  U  |  R  |  D  | N/A |\n",
            "---------------------------\n",
            "  U  | N/A |  R  | N/A |\n",
            "---------------------------\n",
            "  R  |  R  |  R  |  D  |\n",
            "\n",
            "\n",
            "\n",
            "values (iteration 1)\n",
            "---------------------------\n",
            " 0.00|-0.81|-0.90| 0.00|\n",
            "---------------------------\n",
            " 0.00| 0.00|-1.00| 0.00|\n",
            "---------------------------\n",
            " 0.00| 0.00| 0.00| 0.00|\n",
            "policy (iteration 1)\n",
            "---------------------------\n",
            "  U  |  L  |  R  | N/A |\n",
            "---------------------------\n",
            "  U  | N/A |  D  | N/A |\n",
            "---------------------------\n",
            "  U  |  U  |  D  |  D  |\n",
            "\n",
            "\n",
            "\n",
            "values (iteration 2)\n",
            "---------------------------\n",
            " 0.00| 0.00| 1.10| 0.00|\n",
            "---------------------------\n",
            " 0.00| 0.00| 0.00| 0.00|\n",
            "---------------------------\n",
            " 0.00| 0.00| 0.00| 0.00|\n",
            "policy (iteration 2)\n",
            "---------------------------\n",
            "  U  |  R  |  R  | N/A |\n",
            "---------------------------\n",
            "  U  | N/A |  U  | N/A |\n",
            "---------------------------\n",
            "  U  |  U  |  U  |  D  |\n",
            "\n",
            "\n",
            "\n",
            "values (iteration 3)\n",
            "---------------------------\n",
            " 0.00| 0.99| 1.10| 0.00|\n",
            "---------------------------\n",
            " 0.00| 0.00| 0.99| 0.00|\n",
            "---------------------------\n",
            " 0.00| 0.00| 0.89| 0.00|\n",
            "policy (iteration 3)\n",
            "---------------------------\n",
            "  R  |  R  |  R  | N/A |\n",
            "---------------------------\n",
            "  U  | N/A |  U  | N/A |\n",
            "---------------------------\n",
            "  U  |  R  |  U  |  L  |\n",
            "\n",
            "\n",
            "\n"
          ]
        }
      ],
      "source": [
        "from collections import defaultdict\n",
        "values_per_policy = []\n",
        "Vs_per_policy = []\n",
        "actions_per_policy = []\n",
        "rewards_per_policy = []\n",
        "sprimes_per_policy = []\n",
        "\n",
        "iteration=0\n",
        "# repeat until the policy does not change\n",
        "while True:\n",
        "    print(\"values (iteration %d)\" % iteration)\n",
        "    print_values(V, grid)\n",
        "    print(\"policy (iteration %d)\" % iteration)\n",
        "    print_policy(policy, grid)\n",
        "    print('\\n\\n')\n",
        "\n",
        "    # 1. policy evaluation step\n",
        "    # this implementation does multiple policy-evaluation steps\n",
        "    # this is different than in the algorithm from the slides \n",
        "    # which does a single one.\n",
        "\n",
        "    values_per_state = defaultdict(list)\n",
        "    actions_per_state = defaultdict(list)\n",
        "    rewards_per_state = defaultdict(list)\n",
        "    sprimes_per_state = defaultdict(list)\n",
        "    Vs = []\n",
        "    V = {k: 0 for k in V}\n",
        "    while True:\n",
        "        biggest_change = 0\n",
        "        for s in states:\n",
        "            old_v = V[s]\n",
        "\n",
        "            # V(s) only has value if it's not a terminal state\n",
        "            if s in policy:\n",
        "                a = policy[s]\n",
        "                grid.set_state(s)\n",
        "                r = grid.move(a) # reward\n",
        "                sprime = grid.current_state() # s' \n",
        "                V[s] = r + GAMMA * V[sprime]\n",
        "            biggest_change = max(biggest_change, np.abs(old_v - V[s]))\n",
        "            values_per_state[s].append(V[s])\n",
        "            actions_per_state[s].append(a)\n",
        "            rewards_per_state[s].append(r)\n",
        "            sprimes_per_state[s].append(sprime)\n",
        "            Vs.append(V)\n",
        "        if biggest_change < SMALL_ENOUGH:\n",
        "            break\n",
        "    values_per_policy.append(values_per_state)\n",
        "    Vs_per_policy.append(Vs)\n",
        "    actions_per_policy.append(actions_per_state)\n",
        "    rewards_per_policy.append(rewards_per_state)\n",
        "    sprimes_per_policy.append(sprimes_per_state)\n",
        "\n",
        "    #2. policy improvement step\n",
        "    is_policy_converged = True\n",
        "    for s in states:\n",
        "        if s in policy:\n",
        "            old_a = policy[s]\n",
        "            new_a = None\n",
        "            best_value = float('-inf')\n",
        "            # loop through all possible actions to find the best current action\n",
        "            for a in ALL_POSSIBLE_ACTIONS:\n",
        "                grid.set_state(s)\n",
        "                r = grid.move(a)\n",
        "                sprime = grid.current_state() \n",
        "                v = r + GAMMA * V[sprime]\n",
        "                if v > best_value:\n",
        "                    best_value = v\n",
        "                    new_a = a\n",
        "            if new_a is None: \n",
        "                print('problem')\n",
        "            policy[s] = new_a\n",
        "            if new_a != old_a:\n",
        "                is_policy_converged = False\n",
        "\n",
        "    if is_policy_converged:\n",
        "        break\n",
        "    iteration+=1\n"
      ]
    },
    {
      "cell_type": "markdown",
      "metadata": {
        "id": "2deOVsw46wE0"
      },
      "source": [
        "Now print your policy and make sure it leads to the upper-right corner which is the termnial state returning the most rewards."
      ]
    },
    {
      "cell_type": "code",
      "execution_count": 24,
      "metadata": {
        "colab": {
          "base_uri": "https://localhost:8080/"
        },
        "id": "zFYrJePuaRr2",
        "outputId": "a121089e-3ad3-4b3d-aace-75ff45dfbb82"
      },
      "outputs": [
        {
          "output_type": "execute_result",
          "data": {
            "text/plain": [
              "{(0, 1): [0.0, 0.9900000000000001, 0.9900000000000001],\n",
              " (1, 2): [0.0, 0.9900000000000001, 0.9900000000000001],\n",
              " (2, 1): [0.0, 0.0, 0.0],\n",
              " (0, 0): [0.0, 0.0, 0.0],\n",
              " (0, 3): [0, 0, 0],\n",
              " (2, 0): [0.0, 0.0, 0.0],\n",
              " (2, 3): [0.0, 0.0, 0.0],\n",
              " (0, 2): [1.1, 1.1, 1.1],\n",
              " (2, 2): [0.0, 0.8910000000000001, 0.8910000000000001],\n",
              " (1, 0): [0.0, 0.0, 0.0],\n",
              " (1, 3): [0, 0, 0]}"
            ]
          },
          "metadata": {},
          "execution_count": 24
        }
      ],
      "source": [
        "{k: v[:5] for k, v in values_per_policy[2].items()}"
      ]
    },
    {
      "cell_type": "code",
      "execution_count": 25,
      "metadata": {
        "colab": {
          "base_uri": "https://localhost:8080/"
        },
        "id": "driqrVh2hI8J",
        "outputId": "d538d869-1eb3-4695-f9a1-83694676a4f6"
      },
      "outputs": [
        {
          "output_type": "execute_result",
          "data": {
            "text/plain": [
              "['R', 'R', 'R']"
            ]
          },
          "metadata": {},
          "execution_count": 25
        }
      ],
      "source": [
        "{k: v[:5] for k, v in actions_per_policy[0].items()}[0, 1]"
      ]
    },
    {
      "cell_type": "code",
      "execution_count": 26,
      "metadata": {
        "colab": {
          "base_uri": "https://localhost:8080/"
        },
        "id": "B_KTTkG7hL8r",
        "outputId": "5718d301-fbd0-4afd-c2de-f9e4e09a87db"
      },
      "outputs": [
        {
          "output_type": "execute_result",
          "data": {
            "text/plain": [
              "[0, 0, 0]"
            ]
          },
          "metadata": {},
          "execution_count": 26
        }
      ],
      "source": [
        "{k: v[:5] for k, v in rewards_per_policy[0].items()}[0, 1]"
      ]
    },
    {
      "cell_type": "code",
      "execution_count": 27,
      "metadata": {
        "colab": {
          "base_uri": "https://localhost:8080/"
        },
        "id": "YV4LWkK36x3a",
        "outputId": "2a5ce549-ba21-4d56-dce9-a549d89e95e2"
      },
      "outputs": [
        {
          "output_type": "stream",
          "name": "stdout",
          "text": [
            "final values:\n",
            "---------------------------\n",
            " 0.89| 0.99| 1.10| 0.00|\n",
            "---------------------------\n",
            " 0.80| 0.00| 0.99| 0.00|\n",
            "---------------------------\n",
            " 0.72| 0.80| 0.89| 0.80|\n",
            "final policy:\n",
            "---------------------------\n",
            "  R  |  R  |  R  | N/A |\n",
            "---------------------------\n",
            "  U  | N/A |  U  | N/A |\n",
            "---------------------------\n",
            "  U  |  R  |  U  |  L  |\n"
          ]
        }
      ],
      "source": [
        "print(\"final values:\")\n",
        "print_values(V, grid)\n",
        "print(\"final policy:\")\n",
        "print_policy(policy, grid)"
      ]
    },
    {
      "cell_type": "markdown",
      "metadata": {
        "id": "lpGULv8Fvf7u"
      },
      "source": [
        "# Values Dataset"
      ]
    },
    {
      "cell_type": "code",
      "execution_count": 28,
      "metadata": {
        "colab": {
          "base_uri": "https://localhost:8080/"
        },
        "id": "0FSDwAhuvX4K",
        "outputId": "3ac3f414-9eba-4bc6-fe32-5c209c9f1c28"
      },
      "outputs": [
        {
          "output_type": "execute_result",
          "data": {
            "text/plain": [
              "[-1.0,\n",
              " -0.9,\n",
              " -0.81,\n",
              " 0.0,\n",
              " 0.5261265900000002,\n",
              " 0.5845851000000002,\n",
              " 0.6495390000000002,\n",
              " 0.7217100000000002,\n",
              " 0.8019000000000002,\n",
              " 0.8910000000000001,\n",
              " 0.9900000000000001,\n",
              " 1.1]"
            ]
          },
          "metadata": {},
          "execution_count": 28
        }
      ],
      "source": [
        "def all_values():\n",
        "  for s2v in values_per_policy:\n",
        "    for s, v in s2v.items():\n",
        "      yield from v\n",
        "\n",
        "unique_values = list(np.unique(sorted(all_values())))\n",
        "unique_values"
      ]
    },
    {
      "cell_type": "code",
      "execution_count": 29,
      "metadata": {
        "colab": {
          "base_uri": "https://localhost:8080/",
          "height": 255,
          "referenced_widgets": [
            "85d976917a3e464aa024567c79a3283f",
            "807d5172510740c8819333ce53a4f19c",
            "913979a81b92471d88ba91a61d984c92",
            "99031949a03b46d3a267c741826042db",
            "e64ac183292f417ba64146539332dce7",
            "bc9d4958368a451daa0cc9f4597ce522",
            "2ad483ca8bc74a379ae13e70d3316996",
            "98610babc9fd4315be34ad4e1dc5be43",
            "2339e61d99cc458e9a5626083bdf1544",
            "25867107970141df981541e8ae732c77",
            "7b3d4e161ce64b8ca1ef79eb1a178684",
            "2f1aab7d6f184f16b9f6aa7b4c720ac7",
            "6d930514277843edaec9e85a8848c35c",
            "575c0f8a2b0a492c8028f4f59c19065d",
            "47c232a4de0f468489d1874b4e274a66",
            "45d9d79635f648a59bdbbfb0f601adf6",
            "0938701327d44df7a08c2ebbfac4ad96",
            "db71ff77aedc4f2fa74c756d3a00b1ba",
            "c83ecc951da64d1b9ed4719a1001dbd1",
            "3eef5e3b9faf4c90af92d25f61d94620",
            "b9a70cd6b9ff4a86bcedce9c93b4d686",
            "b6958cff698d40dba2658365c58e1c0a"
          ]
        },
        "id": "jBY4kAoOuB2m",
        "outputId": "9a7e002b-254b-443a-90b4-0313daf8ac3e"
      },
      "outputs": [
        {
          "output_type": "display_data",
          "data": {
            "text/plain": [
              "  0%|          | 0/2 [00:00<?, ?ba/s]"
            ],
            "application/vnd.jupyter.widget-view+json": {
              "version_major": 2,
              "version_minor": 0,
              "model_id": "85d976917a3e464aa024567c79a3283f"
            }
          },
          "metadata": {}
        },
        {
          "output_type": "display_data",
          "data": {
            "text/plain": [
              "  0%|          | 0/2 [00:00<?, ?ba/s]"
            ],
            "application/vnd.jupyter.widget-view+json": {
              "version_major": 2,
              "version_minor": 0,
              "model_id": "2f1aab7d6f184f16b9f6aa7b4c720ac7"
            }
          },
          "metadata": {}
        },
        {
          "output_type": "execute_result",
          "data": {
            "text/plain": [
              "DatasetDict({\n",
              "    train: Dataset({\n",
              "        features: ['attention_mask', 'input_ids', 'labels'],\n",
              "        num_rows: 1440\n",
              "    })\n",
              "    validation: Dataset({\n",
              "        features: ['attention_mask', 'input_ids', 'labels'],\n",
              "        num_rows: 320\n",
              "    })\n",
              "})"
            ]
          },
          "metadata": {},
          "execution_count": 29
        }
      ],
      "source": [
        "import random\n",
        "random.seed(0)\n",
        "\n",
        "max_policy = 1\n",
        "\n",
        "query_state = []\n",
        "input_ids = []\n",
        "labels = []\n",
        "attention_mask = []\n",
        "null = 0\n",
        "SHUFFLES_PER_PROMPT = 80\n",
        "heldout_states = [(2, 0), (0, 2)]\n",
        "\n",
        "def make_state_ids(state):\n",
        "  return list(1 + np.array(state))\n",
        "\n",
        "def make_value_ids(values):\n",
        "  return list(max(grid.height, grid.width) + np.array([unique_values.index(v) for v in values]))\n",
        "\n",
        "for i, s2v in enumerate(values_per_policy):\n",
        "  s2v_list = list(s2v.items())\n",
        "  for _ in range(len(s2v_list)):\n",
        "    *prompt, query = s2v_list\n",
        "\n",
        "    for seed in range(SHUFFLES_PER_PROMPT):\n",
        "      # prompt\n",
        "      new_input_ids = []\n",
        "      shuffled_prompt = random.choices(prompt, k=len(prompt))\n",
        "      for s, vs in shuffled_prompt:\n",
        "        new_input_ids += [*make_state_ids(s), *make_value_ids(vs)]\n",
        "  \n",
        "      # query\n",
        "      state, values = query\n",
        "      new_input_ids += make_state_ids(state)\n",
        "      query_value_ids = make_value_ids(values)\n",
        "  \n",
        "      # labels\n",
        "      new_labels = [null for _ in new_input_ids[:-1]] + query_value_ids\n",
        "      new_input_ids += query_value_ids[:-1]\n",
        "      input_ids.append(new_input_ids)\n",
        "      labels.append(new_labels)\n",
        "      attention_mask.append([1 for _ in new_labels])\n",
        "      query_state.append(state)\n",
        "\n",
        "    # rotate s2v_list\n",
        "    s2v_list = [query, *prompt]\n",
        "\n",
        "  if i == max_policy:\n",
        "    break\n",
        "\n",
        "max_len = max(len(l) for l in labels)\n",
        "input_ids = [[null] * (max_len - len(l)) + l for l in input_ids]\n",
        "labels = [[null] * (max_len - len(l)) + l for l in labels]\n",
        "attention_mask = [[null] * (max_len - len(l)) + l for l in attention_mask]\n",
        "\n",
        "from datasets import Dataset\n",
        "from datasets import DatasetDict\n",
        "values_dataset = Dataset.from_dict(dict(attention_mask=attention_mask, input_ids=input_ids, labels=labels, query_state=query_state))\n",
        "\n",
        "def is_validation(x):\n",
        "  return tuple(x['query_state']) in heldout_states\n",
        "\n",
        "validation = values_dataset.filter(is_validation).remove_columns(\"query_state\")\n",
        "train = values_dataset.filter(lambda x: not is_validation(x)).remove_columns(\"query_state\")\n",
        "values_datasets = DatasetDict(dict(train=train, validation=validation))\n",
        "values_datasets"
      ]
    },
    {
      "cell_type": "code",
      "source": [
        "for x in values_datasets['validation']:\n",
        "  print(x)\n",
        "  break"
      ],
      "metadata": {
        "colab": {
          "base_uri": "https://localhost:8080/"
        },
        "id": "CsHaA8U3DOms",
        "outputId": "0e0df613-9e48-4f86-d073-f36f59e29a95"
      },
      "execution_count": 30,
      "outputs": [
        {
          "output_type": "stream",
          "name": "stdout",
          "text": [
            "{'attention_mask': [1, 1, 1, 1, 1, 1, 1, 1, 1, 1, 1, 1, 1, 1, 1, 1, 1, 1, 1, 1, 1, 1, 1, 1, 1, 1, 1, 1, 1, 1, 1, 1, 1, 1, 1, 1, 1, 1, 1, 1, 1, 1, 1, 1, 1, 1, 1, 1, 1, 1, 1, 1, 1, 1], 'input_ids': [2, 4, 7, 7, 7, 3, 1, 7, 7, 7, 1, 1, 7, 7, 7, 1, 1, 7, 7, 7, 3, 3, 7, 7, 7, 1, 2, 7, 6, 6, 1, 4, 7, 7, 7, 2, 4, 7, 7, 7, 1, 1, 7, 7, 7, 3, 4, 7, 7, 7, 1, 3, 5, 5], 'labels': [0, 0, 0, 0, 0, 0, 0, 0, 0, 0, 0, 0, 0, 0, 0, 0, 0, 0, 0, 0, 0, 0, 0, 0, 0, 0, 0, 0, 0, 0, 0, 0, 0, 0, 0, 0, 0, 0, 0, 0, 0, 0, 0, 0, 0, 0, 0, 0, 0, 0, 0, 5, 5, 5]}\n"
          ]
        }
      ]
    },
    {
      "cell_type": "markdown",
      "metadata": {
        "id": "uGYl4nCPKyZi"
      },
      "source": [
        "# Pre-Training a 🤗 Transformers model on TPU with **Flax/JAX**\n",
        "\n",
        "In this notebook, we will see how to pretrain one of the [🤗 Transformers](https://github.com/huggingface/transformers) models on TPU using [**Flax**](https://flax.readthedocs.io/en/latest/index.html). \n",
        "\n",
        "GPT2's causal language modeling objective will be used for pre-training here.\n",
        "\n",
        "As can be seen on [this benchmark](https://github.com/huggingface/transformers/tree/master/examples/flax/language-modeling#runtime-evaluation) using Flax/JAX on GPU/TPU is often much faster and can also be considerably cheaper than using PyTorch on GPU/TPU.\n",
        "\n",
        "[**Flax**](https://flax.readthedocs.io/en/latest/index.html) is a high-performance neural network library designed for flexibility built on top of JAX (see below). It aims to provide users with full control of their training code and is carefully designed to work well with JAX transformations such as `grad` and `pmap` (see the [Flax philosophy](https://flax.readthedocs.io/en/latest/philosophy.html)). For an introduction to Flax see the [Flax Basic Colab](https://flax.readthedocs.io/en/latest/notebooks/flax_basics.html) or the list of curated [Flax examples](https://flax.readthedocs.io/en/latest/examples.html).\n",
        "\n",
        "[**JAX**](https://jax.readthedocs.io/en/latest/index.html) is Autograd and XLA, brought together for high-performance numerical computing and machine learning research. It provides composable transformations of Python+NumPy programs: differentiate, vectorize, parallelize, Just-In-Time compile to GPU/TPU, and more. A great place for getting started with JAX is the [JAX 101 Tutorial](https://jax.readthedocs.io/en/latest/jax-101/index.html)."
      ]
    },
    {
      "cell_type": "markdown",
      "metadata": {
        "id": "ZRvfr609LzWu"
      },
      "source": [
        "## 4. Pre-Training the model\n",
        "\n",
        "Now we will see how the power of Google's tensor processing unit (TPU) can be leveraged with Flax/JAX for the compute-intensive pre-training of language models.\n"
      ]
    },
    {
      "cell_type": "markdown",
      "metadata": {
        "id": "_MGleTRG6Vor"
      },
      "source": [
        "At first, we define all relevant hyper-parameters for pretraining in this notebook:\n",
        "\n",
        "- Each TPU will process a batch size of `16`\n",
        "- The model is trained for `10` epochs\n",
        "- The learning rate starts at `3e-4` and is successfully linearly decayed with each training step\n",
        "- To reproduce the training run, a random seed is set to `0`.\n",
        "\n",
        "We can deduce the total batch size over all devices as well as the total number of training steps accordingly."
      ]
    },
    {
      "cell_type": "code",
      "execution_count": 31,
      "metadata": {
        "id": "y8lsJQy8liud"
      },
      "outputs": [],
      "source": [
        "my_datasets = values_datasets #tokenized_datasets\n",
        "\n",
        "per_device_batch_size = 16\n",
        "num_epochs = 1000\n",
        "training_seed = 0\n",
        "learning_rate = 3e-4\n",
        "\n",
        "total_batch_size = per_device_batch_size * jax.device_count()\n",
        "num_train_steps = len(my_datasets[\"train\"]) // total_batch_size * num_epochs"
      ]
    },
    {
      "cell_type": "markdown",
      "metadata": {
        "id": "FB9bRDBq5j3r"
      },
      "source": [
        "In the [official GPT2 paper](https://cdn.openai.com/better-language-models/language_models_are_unsupervised_multitask_learners.pdf) a batch size of 512 is used.\n",
        "\n",
        "Here, we use a batch size of `8 * 16 = 128` due to the TPU memory constraints of this notebook. When running this script locally on a TPUv3-8, one can easily use batch sizes of up to `8 * 64 = 512`."
      ]
    },
    {
      "cell_type": "markdown",
      "metadata": {
        "id": "i0Tylp115u1r"
      },
      "source": [
        "Now we randomly initialized a `distilgpt2` model according to its configuration. To save memory and improve speed, we initialize the weights directly in `bfloat16` by setting `dtype=jnp.dtype(\"bfloat16\")`."
      ]
    },
    {
      "cell_type": "code",
      "execution_count": 32,
      "metadata": {
        "id": "aVr9TCzfacLN"
      },
      "outputs": [],
      "source": [
        "from transformers import FlaxAutoModelForCausalLM\n",
        "\n",
        "model = FlaxAutoModelForCausalLM.from_config(config, seed=training_seed, dtype=jnp.dtype(\"bfloat16\"))"
      ]
    },
    {
      "cell_type": "markdown",
      "metadata": {
        "id": "sMS_QkT76Lgk"
      },
      "source": [
        "Next, we define the learning rate schedule. A simple and effective learning rate schedule is the linear decay with warmup (click [here](https://huggingface.co/transformers/main_classes/optimizer_schedules.html#transformers.get_linear_schedule_with_warmup) for more information). For simplicity, we set the number of warmup steps simply to 0 here. The schedule is then fully defined by the number of training steps and the learning rate.\n",
        "\n",
        "It is recommended to use the [**optax**](https://github.com/deepmind/optax) library for training utilities, *e.g.* learning rate schedules and optimizers.\n",
        "\n",
        "To see how to define a learning rate schedule with warmup, please take a look at the [official Flax CLM pre-training script](https://github.com/huggingface/transformers/blob/master/examples/flax/language-modeling/run_clm_flax.py)."
      ]
    },
    {
      "cell_type": "code",
      "execution_count": 33,
      "metadata": {
        "id": "kfBkuV1ck4rq"
      },
      "outputs": [],
      "source": [
        "linear_decay_lr_schedule_fn = optax.linear_schedule(init_value=learning_rate, end_value=0, transition_steps=num_train_steps)"
      ]
    },
    {
      "cell_type": "markdown",
      "metadata": {
        "id": "2p0yNxeU79F2"
      },
      "source": [
        "We will be using the standard Adam optimizer with weight decay, called AdamW (Adam + weight decay). \n",
        "\n",
        "AdamW can easily be imported from [optax](https://github.com/deepmind/optax) and is created from the just defined learning rate schedule as well as a couple of other hyper-parameters (*beta1*, *beta2*, *epsilon*) that are hard-coded in this notebook.\n",
        "\n",
        "For more information on AdamW (Adam + weight decay), one can take a look at [this](https://www.fast.ai/2018/07/02/adam-weight-decay/) blog post."
      ]
    },
    {
      "cell_type": "code",
      "execution_count": 34,
      "metadata": {
        "id": "xRtpv_iamZd2"
      },
      "outputs": [],
      "source": [
        "adamw = optax.adamw(learning_rate=linear_decay_lr_schedule_fn, b1=0.9, b2=0.98, eps=1e-8, weight_decay=0.01)"
      ]
    },
    {
      "cell_type": "markdown",
      "metadata": {
        "id": "6g_fEbV-72Hc"
      },
      "source": [
        "Next, we will create the *training state* that includes the optimizer, the loss function, and is responsible for updating the model's parameters during training.\n",
        "\n",
        "Most JAX transformations (notably [jax.jit](https://jax.readthedocs.io/en/latest/jax-101/02-jitting.html)) require functions that are transformed to have no side effects. This is because any such side-effects will only be executed once when the Python version of the function is run during compilation (see [Stateful Computations in JAX](https://jax.readthedocs.io/en/latest/jax-101/07-state.html)). As a consequence, Flax models (which can be transformed by JAX transformations) are **immutable**, and the state of the model (i.e., its weight parameters) is stored *outside* of the model instance.\n",
        "\n",
        "Models are initialized and updated in a purely functional way: you pass the state to the model when calling it, and the model returns the new (possibly modified) state, leaving the model instance itself unchanged.\n",
        "\n",
        "Flax provides a convenience class [`flax.training.train_state.TrainState`](https://github.com/google/flax/blob/9da95cdd12591f42d2cd4c17089861bff7e43cc5/flax/training/train_state.py#L22), which stores things such as the model parameters, the loss function, the optimizer, and exposes an `apply_gradients` function to update the model's weight parameters.\n",
        "\n",
        "Alright, let's begin by defining our *training state* class. We create a `TrainState` class that stores the model's forward pass as the `apply_fn`, the `params`, and the AdamW optimizer."
      ]
    },
    {
      "cell_type": "markdown",
      "metadata": {
        "id": "Ermxx_REtthy"
      },
      "source": []
    },
    {
      "cell_type": "code",
      "execution_count": 35,
      "metadata": {
        "id": "JHYfR67AoKRc"
      },
      "outputs": [],
      "source": [
        "state = train_state.TrainState.create(apply_fn=model.__call__, params=model.params, tx=adamw)"
      ]
    },
    {
      "cell_type": "markdown",
      "metadata": {
        "id": "xiYCejDd81TX"
      },
      "source": [
        "Next, let's implement a data loader for both training and evaluation.\n",
        "The data loader can be defined as a [Python generator](https://wiki.python.org/moin/Generators) that returns a batch model input every time it is called.\n",
        "\n",
        "First, a random permutation of the whole dataset is defined. \n",
        "Then, every time the training data collator is called the next batch of the randomized dataset is extracted, converted to a JAX array and sharded over all local TPU devices."
      ]
    },
    {
      "cell_type": "code",
      "execution_count": 36,
      "metadata": {
        "id": "Aos9GltTb3Ve"
      },
      "outputs": [],
      "source": [
        "def data_loader(rng, dataset, batch_size, shuffle=False):\n",
        "    steps_per_epoch = len(dataset) // batch_size\n",
        "\n",
        "    if shuffle:\n",
        "        batch_idx = jax.random.permutation(rng, len(dataset))\n",
        "    else:\n",
        "        batch_idx = jnp.arange(len(dataset))\n",
        "\n",
        "    batch_idx = batch_idx[: steps_per_epoch * batch_size]  # Skip incomplete batch.\n",
        "    batch_idx = batch_idx.reshape((steps_per_epoch, batch_size))\n",
        "\n",
        "    for idx in batch_idx:\n",
        "        batch = dataset[idx]\n",
        "        batch = {k: jnp.array(v) for k, v in batch.items()}\n",
        "\n",
        "        batch = shard(batch)\n",
        "\n",
        "        yield batch"
      ]
    },
    {
      "cell_type": "markdown",
      "metadata": {
        "id": "L7uoTXDLUzb-"
      },
      "source": [
        "At each training epoch, the dataset should be shuffled and superfluous samples that make the dataset not evenly divisible by the batch size are thrown away. Instead of passing the dataset, we prepare the indices of data samples to be used for both each training epoch. \n",
        "The indices for the training dataset are additionally randomly shuffled before each epoch."
      ]
    },
    {
      "cell_type": "markdown",
      "metadata": {
        "id": "MU6idLb29xYu"
      },
      "source": [
        "During fine-tuning, we want to update the model parameters and evaluate the performance after each epoch. \n",
        "\n",
        "Let's write the functions `train_step` and `eval_step` accordingly. During training the weight parameters should be updated as follows:\n",
        "\n",
        "1. Define a loss function `loss_function` that first runs a forward pass of the model given data input. Remember that Flax models are immutable, and we explicitly pass it the state (in this case the model parameters and the RNG). `loss_function` returns a scalar loss (using the previously defined `state.loss_function`) between the model output and input targets.\n",
        "2. Differentiate this loss function using [`jax.value_and_grad`](https://jax.readthedocs.io/en/latest/notebooks/autodiff_cookbook.html#evaluate-a-function-and-its-gradient-using-value-and-grad). This is a JAX transformation called [automatic differentiation](https://en.wikipedia.org/wiki/Automatic_differentiation), which computes the gradient of `loss_function` given the input to the function (i.e., the parameters of the model), and returns the value and the gradient in a pair `(loss, gradients)`.\n",
        "3. Compute the mean gradient over all devices using the collective operation [lax.pmean](https://jax.readthedocs.io/en/latest/_autosummary/jax.lax.pmean.html). As we will see below, each device runs `train_step` on a different batch of data, but by taking the mean here we ensure the model parameters are the same on all devices.\n",
        "4. Use `state.apply_gradients`, which applies the gradients to the weights.\n",
        "\n",
        "Below, you can see how each of the described steps above is put into practice.\n",
        "\n",
        "Also note that the `labels` are shifted one to the left and the last token of the `logits` is cut. This way, the model learns to predict the **next** token as defined in causal language modeling."
      ]
    },
    {
      "cell_type": "code",
      "execution_count": 37,
      "metadata": {
        "id": "GjKzb0zJd-aH"
      },
      "outputs": [],
      "source": [
        "def prepare_for_model(batch):\n",
        "  return {k: v for k, v in batch.items() if k in ['attention_mask', 'input_ids']}\n",
        "\n",
        "def train_step(state, batch, dropout_rng):\n",
        "    dropout_rng, new_dropout_rng = jax.random.split(dropout_rng)\n",
        "\n",
        "    def loss_fn(params):\n",
        "        labels = batch.pop(\"labels\")\n",
        "        logits = state.apply_fn(**prepare_for_model(batch), params=params, dropout_rng=dropout_rng, train=True)[0]\n",
        "        \n",
        "        logits = logits[..., :-1, :]\n",
        "        onehots = onehot(labels[..., 1:], logits.shape[-1])\n",
        "\n",
        "        loss = optax.softmax_cross_entropy(logits, onehots).mean()\n",
        "        probs = jax.nn.softmax(logits, axis=-1)\n",
        "        accuracy = (probs * onehots).sum(-1).mean()\n",
        "        return loss, dict(accuracy=accuracy)\n",
        "\n",
        "    grad_fn = jax.value_and_grad(loss_fn, has_aux=True)\n",
        "    (loss, aux), grad = grad_fn(state.params)\n",
        "    grad = jax.lax.pmean(grad, \"batch\")\n",
        "    new_state = state.apply_gradients(grads=grad)\n",
        "\n",
        "    metrics = jax.lax.pmean(\n",
        "        {\"loss\": loss, \"learning_rate\": linear_decay_lr_schedule_fn(state.step), **aux}, axis_name=\"batch\"\n",
        "    )\n",
        "\n",
        "    return new_state, metrics, new_dropout_rng"
      ]
    },
    {
      "cell_type": "markdown",
      "metadata": {
        "id": "nCPedI-B-FMQ"
      },
      "source": [
        "Now, we want to do parallelized training over all TPU devices. To do so, we use [`jax.pmap`](https://jax.readthedocs.io/en/latest/jax.html?highlight=pmap#parallelization-pmap). This will compile the function once and run the same program on each device (it is an [SPMD program](https://en.wikipedia.org/wiki/SPMD)). When calling this pmapped function, all inputs (`\"state\"`, `\"batch\"`, `\"dropout_rng\"`) should be replicated for all devices, which means that the first axis of each argument is used to map over all TPU devices."
      ]
    },
    {
      "cell_type": "code",
      "execution_count": 38,
      "metadata": {
        "id": "w3k1Lqerpw5k"
      },
      "outputs": [],
      "source": [
        "parallel_train_step = jax.pmap(train_step, \"batch\")"
      ]
    },
    {
      "cell_type": "markdown",
      "metadata": {
        "id": "0DWFAZM6A8uf"
      },
      "source": [
        "Similarly, we can now define the evaluation step. Here, the function is much easier as we don't need to compute any gradients. To better monitor the performance improvement during training, the next token loss is computed and stored in a `metric` dictionary during evaluation."
      ]
    },
    {
      "cell_type": "code",
      "execution_count": 39,
      "metadata": {
        "id": "EGEv7dyfpW4p"
      },
      "outputs": [],
      "source": [
        "def eval_step(params, batch):\n",
        "    labels = batch.pop(\"labels\")\n",
        "\n",
        "    logits = model(**prepare_for_model(batch), params=params, train=False)[0]\n",
        "\n",
        "    logits = logits[..., :-1, :]\n",
        "    onehots = onehot(labels[..., 1:], logits.shape[-1])\n",
        "\n",
        "    loss = optax.softmax_cross_entropy(logits, onehots).mean()\n",
        "    probs = jax.nn.softmax(logits, axis=-1)\n",
        "    accuracy = (probs * onehots).sum(-1).mean()\n",
        "\n",
        "    loss = optax.softmax_cross_entropy(logits, onehots).mean()\n",
        "\n",
        "    # summarize metrics\n",
        "    metrics = {\"loss\": loss, \"perplexity\": jnp.exp(loss), \"accuracy\": accuracy}\n",
        "    metrics = jax.lax.pmean(metrics, axis_name=\"batch\")\n",
        "    return metrics"
      ]
    },
    {
      "cell_type": "markdown",
      "metadata": {
        "id": "guaYWTvFA_66"
      },
      "source": [
        "Similarly, we also apply `jax.pmap` to the evaluation step."
      ]
    },
    {
      "cell_type": "code",
      "execution_count": 40,
      "metadata": {
        "id": "0B8U2r2RpzjV"
      },
      "outputs": [],
      "source": [
        "parallel_eval_step = jax.pmap(eval_step, \"batch\")"
      ]
    },
    {
      "cell_type": "markdown",
      "metadata": {
        "id": "DLaM60PCY8Ka"
      },
      "source": [
        "Next, we replicate/copy the weight parameters on each device, so that we can pass them to our parallelized mapped functions."
      ]
    },
    {
      "cell_type": "code",
      "execution_count": 41,
      "metadata": {
        "id": "kncZTfALp3PG"
      },
      "outputs": [],
      "source": [
        "state = flax.jax_utils.replicate(state)"
      ]
    },
    {
      "cell_type": "markdown",
      "metadata": {
        "id": "i2xg8oI-ZJ3P"
      },
      "source": [
        "We can almost start training! In a final preparation step, we generate a seeded [**PRNGKey**](https://jax.readthedocs.io/en/latest/_autosummary/jax.random.PRNGKey.html#jax-random-prngkey) used as the random seed for dropout layers and dataset shuffling.\n",
        "\n",
        "Similar to how we had to copy/replicate the state on all 8 TPU devices, we also need to generate one `PRNGKey` per device, which is why we split the initial `rng` key into 8 random seeds. "
      ]
    },
    {
      "cell_type": "code",
      "execution_count": 42,
      "metadata": {
        "id": "idu3E9ubqZH3"
      },
      "outputs": [],
      "source": [
        "rng = jax.random.PRNGKey(training_seed)\n",
        "dropout_rngs = jax.random.split(rng, jax.local_device_count())"
      ]
    },
    {
      "cell_type": "markdown",
      "metadata": {
        "id": "bKuMWHicbede"
      },
      "source": [
        "Now, we are all set to finally start training! \n",
        "Let's put all the pieces together and write the training loop. \n",
        "\n",
        "We start each epoch by generating a new random seed that will be used for dataset shuffling, the dropout layers and the input token masking. \n",
        "\n",
        "Next, we generate the training dataset indices.\n",
        "In the first nested loop - the training loop - we shard the input batch on all 8 TPU devices, and run the training step. \n",
        "\n",
        "Analogs, in the second nested loop - the evaluation loop - the evaluation batches are sharded and the evaluation step is run.\n",
        "\n",
        "**Note**: It might seem that the following cell \"hangs\" when executed for the first time. This is because JAX first traces & compiles the code, the very first time it is run. After the first training step, you should notice that execution is much faster."
      ]
    },
    {
      "cell_type": "code",
      "execution_count": null,
      "metadata": {
        "id": "U946A-YZp-Pe",
        "colab": {
          "base_uri": "https://localhost:8080/",
          "height": 81,
          "referenced_widgets": [
            "4e776428267d4ec091df5a34715b0258",
            "3ddcc0cd5d7c46baa4c772586d992263",
            "f2e56a592af44847a0b3d75310f10e83",
            "71c3700d8bf440929399a9cf44a64bfa",
            "a2ac683e4abd4f82875ae6055833a5fd",
            "a709e9e78c9a4cdeacd143b9194af5df",
            "55555226802445288ef090b387f60860",
            "fecbcf20ef7b44959c94e3091377bc0f",
            "eff4447999aa4ee4a519d4be8507422b",
            "0d0368b94b2241a088d0a4c2b99456fa",
            "c41f2362755244879d88144f802ab247",
            "9f2aa1c6e6ef4ba19b8bac7fc65ff691",
            "c0560c27917e4e349b899766be1ce400",
            "b5d766ff26f84dfca3940aed4440c3c7",
            "99b7fd7558f04f228a11bc1e25401f82",
            "75b580f596c84da2a167b763bf59b000",
            "3ff66e4661f34c879af7d905f1041def",
            "840231ba1e6144f09862827f7d7fe7a3",
            "6bbbae3b98b341eca999c4cd41b0b786",
            "960d698cdc954502a2a8cf2da7137491",
            "0bf42538d83d44b89741ab33b9ee4f7e",
            "8cfc417057c74125ac9f096cc3f124d0"
          ]
        },
        "outputId": "045a5e01-a881-4917-94c0-77a867ec07f5"
      },
      "outputs": [
        {
          "output_type": "display_data",
          "data": {
            "text/plain": [
              "Epoch ...:   0%|          | 0/1000 [00:00<?, ?it/s]"
            ],
            "application/vnd.jupyter.widget-view+json": {
              "version_major": 2,
              "version_minor": 0,
              "model_id": "4e776428267d4ec091df5a34715b0258"
            }
          },
          "metadata": {}
        },
        {
          "output_type": "display_data",
          "data": {
            "text/plain": [
              "Training...:   0%|          | 0/11 [00:00<?, ?it/s]"
            ],
            "application/vnd.jupyter.widget-view+json": {
              "version_major": 2,
              "version_minor": 0,
              "model_id": "9f2aa1c6e6ef4ba19b8bac7fc65ff691"
            }
          },
          "metadata": {}
        }
      ],
      "source": [
        "import seaborn as sns\n",
        "import matplotlib.pyplot as plt\n",
        "\n",
        "losses = dict(train=[], validation=[])\n",
        "accuracies = dict(train=[], validation=[])\n",
        "\n",
        "for epoch in tqdm(range(1, num_epochs + 1), desc=f\"Epoch ...\", position=0, leave=True):\n",
        "    rng, input_rng = jax.random.split(rng)\n",
        "\n",
        "    # -- Train --\n",
        "    train_loader = data_loader(input_rng, my_datasets[\"train\"], total_batch_size, shuffle=True)\n",
        "    with tqdm(total=len(my_datasets[\"train\"]) // total_batch_size, desc=\"Training...\", leave=False) as progress_bar_train:\n",
        "        for model_inputs in train_loader:\n",
        "            # Model forward\n",
        "            state, train_metric, dropout_rngs = parallel_train_step(state, model_inputs, dropout_rngs)\n",
        "\n",
        "            progress_bar_train.update(1)\n",
        "\n",
        "        loss = train_metric['loss'].mean()\n",
        "        losses['train'].append(loss)\n",
        "        accuracy = train_metric['accuracy'].mean()\n",
        "        accuracies['train'].append(accuracy)\n",
        "        progress_bar_train.write(\n",
        "              f\"Train... ({epoch}/{num_epochs} | Accuracy: {round(accuracy, 3)} | Loss: {round(loss, 3)}, Learning Rate: {round(train_metric['learning_rate'].mean(), 6)})\"\n",
        "        )\n",
        "\n",
        "    # -- Eval --\n",
        "    eval_loader = data_loader(input_rng, my_datasets[\"validation\"], total_batch_size)\n",
        "    eval_metrics = []\n",
        "   \n",
        "    with tqdm(total=len(my_datasets[\"validation\"]) // total_batch_size, desc=\"Evaluation...\", leave=False) as progress_bar_eval:\n",
        "        for model_inputs in eval_loader:\n",
        "            # Model forward\n",
        "            eval_metric = parallel_eval_step(state.params, model_inputs)\n",
        "            eval_metrics.append(eval_metric)\n",
        "\n",
        "            progress_bar_eval.update(1)\n",
        " \n",
        "        eval_metrics = get_metrics(eval_metrics)\n",
        "        eval_metrics = jax.tree_map(jnp.mean, eval_metrics)\n",
        "\n",
        "        loss = eval_metric['loss'].mean()\n",
        "        losses['validation'].append(loss)\n",
        "        accuracy = eval_metric['accuracy'].mean()\n",
        "        accuracies['validation'].append(accuracy)\n",
        "\n",
        "        progress_bar_eval.write(\n",
        "            f\"Eval... ({epoch}/{num_epochs} | Loss: {eval_metrics['loss']} | Perplexity: {eval_metrics['perplexity']})\"\n",
        "        )\n",
        "\n",
        "    for label, loss in losses.items():\n",
        "      plt.plot(loss, label=label)\n",
        "    plt.show()\n",
        "    for label, accuracy in accuracies.items():\n",
        "      plt.plot(accuracy, label=label)\n",
        "    plt.yscale('log')\n",
        "    plt.show()\n"
      ]
    },
    {
      "cell_type": "markdown",
      "metadata": {
        "id": "ZI4XIhY-7hyh"
      },
      "source": [
        "It can be seen that in this colab training already reaches a speed of 2.42 training steps per second. Executing [**`run_clm_flax.py`**](https://github.com/huggingface/transformers/tree/master/examples/flax/language-modeling/run_clm_flax.py) on a TPUv3-8 VM should be as fast as 7 training steps per second.\n",
        "\n",
        "For a more in-detail comparison of runtimes please refer to [this](https://github.com/huggingface/transformers/tree/master/examples/flax/language-modeling#runtime-evaluation) table."
      ]
    },
    {
      "cell_type": "code",
      "source": [
        "del model"
      ],
      "metadata": {
        "id": "ocu-dPKwW8kJ"
      },
      "execution_count": null,
      "outputs": []
    }
  ],
  "metadata": {
    "accelerator": "TPU",
    "colab": {
      "provenance": [],
      "toc_visible": true,
      "include_colab_link": true
    },
    "kernelspec": {
      "display_name": "Python 3 (ipykernel)",
      "language": "python",
      "name": "python3"
    },
    "language_info": {
      "codemirror_mode": {
        "name": "ipython",
        "version": 3
      },
      "file_extension": ".py",
      "mimetype": "text/x-python",
      "name": "python",
      "nbconvert_exporter": "python",
      "pygments_lexer": "ipython3",
      "version": "3.10.8"
    },
    "widgets": {
      "application/vnd.jupyter.widget-state+json": {
        "85d976917a3e464aa024567c79a3283f": {
          "model_module": "@jupyter-widgets/controls",
          "model_name": "HBoxModel",
          "model_module_version": "1.5.0",
          "state": {
            "_dom_classes": [],
            "_model_module": "@jupyter-widgets/controls",
            "_model_module_version": "1.5.0",
            "_model_name": "HBoxModel",
            "_view_count": null,
            "_view_module": "@jupyter-widgets/controls",
            "_view_module_version": "1.5.0",
            "_view_name": "HBoxView",
            "box_style": "",
            "children": [
              "IPY_MODEL_807d5172510740c8819333ce53a4f19c",
              "IPY_MODEL_913979a81b92471d88ba91a61d984c92",
              "IPY_MODEL_99031949a03b46d3a267c741826042db"
            ],
            "layout": "IPY_MODEL_e64ac183292f417ba64146539332dce7"
          }
        },
        "807d5172510740c8819333ce53a4f19c": {
          "model_module": "@jupyter-widgets/controls",
          "model_name": "HTMLModel",
          "model_module_version": "1.5.0",
          "state": {
            "_dom_classes": [],
            "_model_module": "@jupyter-widgets/controls",
            "_model_module_version": "1.5.0",
            "_model_name": "HTMLModel",
            "_view_count": null,
            "_view_module": "@jupyter-widgets/controls",
            "_view_module_version": "1.5.0",
            "_view_name": "HTMLView",
            "description": "",
            "description_tooltip": null,
            "layout": "IPY_MODEL_bc9d4958368a451daa0cc9f4597ce522",
            "placeholder": "​",
            "style": "IPY_MODEL_2ad483ca8bc74a379ae13e70d3316996",
            "value": "100%"
          }
        },
        "913979a81b92471d88ba91a61d984c92": {
          "model_module": "@jupyter-widgets/controls",
          "model_name": "FloatProgressModel",
          "model_module_version": "1.5.0",
          "state": {
            "_dom_classes": [],
            "_model_module": "@jupyter-widgets/controls",
            "_model_module_version": "1.5.0",
            "_model_name": "FloatProgressModel",
            "_view_count": null,
            "_view_module": "@jupyter-widgets/controls",
            "_view_module_version": "1.5.0",
            "_view_name": "ProgressView",
            "bar_style": "success",
            "description": "",
            "description_tooltip": null,
            "layout": "IPY_MODEL_98610babc9fd4315be34ad4e1dc5be43",
            "max": 2,
            "min": 0,
            "orientation": "horizontal",
            "style": "IPY_MODEL_2339e61d99cc458e9a5626083bdf1544",
            "value": 2
          }
        },
        "99031949a03b46d3a267c741826042db": {
          "model_module": "@jupyter-widgets/controls",
          "model_name": "HTMLModel",
          "model_module_version": "1.5.0",
          "state": {
            "_dom_classes": [],
            "_model_module": "@jupyter-widgets/controls",
            "_model_module_version": "1.5.0",
            "_model_name": "HTMLModel",
            "_view_count": null,
            "_view_module": "@jupyter-widgets/controls",
            "_view_module_version": "1.5.0",
            "_view_name": "HTMLView",
            "description": "",
            "description_tooltip": null,
            "layout": "IPY_MODEL_25867107970141df981541e8ae732c77",
            "placeholder": "​",
            "style": "IPY_MODEL_7b3d4e161ce64b8ca1ef79eb1a178684",
            "value": " 2/2 [00:01&lt;00:00,  1.23ba/s]"
          }
        },
        "e64ac183292f417ba64146539332dce7": {
          "model_module": "@jupyter-widgets/base",
          "model_name": "LayoutModel",
          "model_module_version": "1.2.0",
          "state": {
            "_model_module": "@jupyter-widgets/base",
            "_model_module_version": "1.2.0",
            "_model_name": "LayoutModel",
            "_view_count": null,
            "_view_module": "@jupyter-widgets/base",
            "_view_module_version": "1.2.0",
            "_view_name": "LayoutView",
            "align_content": null,
            "align_items": null,
            "align_self": null,
            "border": null,
            "bottom": null,
            "display": null,
            "flex": null,
            "flex_flow": null,
            "grid_area": null,
            "grid_auto_columns": null,
            "grid_auto_flow": null,
            "grid_auto_rows": null,
            "grid_column": null,
            "grid_gap": null,
            "grid_row": null,
            "grid_template_areas": null,
            "grid_template_columns": null,
            "grid_template_rows": null,
            "height": null,
            "justify_content": null,
            "justify_items": null,
            "left": null,
            "margin": null,
            "max_height": null,
            "max_width": null,
            "min_height": null,
            "min_width": null,
            "object_fit": null,
            "object_position": null,
            "order": null,
            "overflow": null,
            "overflow_x": null,
            "overflow_y": null,
            "padding": null,
            "right": null,
            "top": null,
            "visibility": null,
            "width": null
          }
        },
        "bc9d4958368a451daa0cc9f4597ce522": {
          "model_module": "@jupyter-widgets/base",
          "model_name": "LayoutModel",
          "model_module_version": "1.2.0",
          "state": {
            "_model_module": "@jupyter-widgets/base",
            "_model_module_version": "1.2.0",
            "_model_name": "LayoutModel",
            "_view_count": null,
            "_view_module": "@jupyter-widgets/base",
            "_view_module_version": "1.2.0",
            "_view_name": "LayoutView",
            "align_content": null,
            "align_items": null,
            "align_self": null,
            "border": null,
            "bottom": null,
            "display": null,
            "flex": null,
            "flex_flow": null,
            "grid_area": null,
            "grid_auto_columns": null,
            "grid_auto_flow": null,
            "grid_auto_rows": null,
            "grid_column": null,
            "grid_gap": null,
            "grid_row": null,
            "grid_template_areas": null,
            "grid_template_columns": null,
            "grid_template_rows": null,
            "height": null,
            "justify_content": null,
            "justify_items": null,
            "left": null,
            "margin": null,
            "max_height": null,
            "max_width": null,
            "min_height": null,
            "min_width": null,
            "object_fit": null,
            "object_position": null,
            "order": null,
            "overflow": null,
            "overflow_x": null,
            "overflow_y": null,
            "padding": null,
            "right": null,
            "top": null,
            "visibility": null,
            "width": null
          }
        },
        "2ad483ca8bc74a379ae13e70d3316996": {
          "model_module": "@jupyter-widgets/controls",
          "model_name": "DescriptionStyleModel",
          "model_module_version": "1.5.0",
          "state": {
            "_model_module": "@jupyter-widgets/controls",
            "_model_module_version": "1.5.0",
            "_model_name": "DescriptionStyleModel",
            "_view_count": null,
            "_view_module": "@jupyter-widgets/base",
            "_view_module_version": "1.2.0",
            "_view_name": "StyleView",
            "description_width": ""
          }
        },
        "98610babc9fd4315be34ad4e1dc5be43": {
          "model_module": "@jupyter-widgets/base",
          "model_name": "LayoutModel",
          "model_module_version": "1.2.0",
          "state": {
            "_model_module": "@jupyter-widgets/base",
            "_model_module_version": "1.2.0",
            "_model_name": "LayoutModel",
            "_view_count": null,
            "_view_module": "@jupyter-widgets/base",
            "_view_module_version": "1.2.0",
            "_view_name": "LayoutView",
            "align_content": null,
            "align_items": null,
            "align_self": null,
            "border": null,
            "bottom": null,
            "display": null,
            "flex": null,
            "flex_flow": null,
            "grid_area": null,
            "grid_auto_columns": null,
            "grid_auto_flow": null,
            "grid_auto_rows": null,
            "grid_column": null,
            "grid_gap": null,
            "grid_row": null,
            "grid_template_areas": null,
            "grid_template_columns": null,
            "grid_template_rows": null,
            "height": null,
            "justify_content": null,
            "justify_items": null,
            "left": null,
            "margin": null,
            "max_height": null,
            "max_width": null,
            "min_height": null,
            "min_width": null,
            "object_fit": null,
            "object_position": null,
            "order": null,
            "overflow": null,
            "overflow_x": null,
            "overflow_y": null,
            "padding": null,
            "right": null,
            "top": null,
            "visibility": null,
            "width": null
          }
        },
        "2339e61d99cc458e9a5626083bdf1544": {
          "model_module": "@jupyter-widgets/controls",
          "model_name": "ProgressStyleModel",
          "model_module_version": "1.5.0",
          "state": {
            "_model_module": "@jupyter-widgets/controls",
            "_model_module_version": "1.5.0",
            "_model_name": "ProgressStyleModel",
            "_view_count": null,
            "_view_module": "@jupyter-widgets/base",
            "_view_module_version": "1.2.0",
            "_view_name": "StyleView",
            "bar_color": null,
            "description_width": ""
          }
        },
        "25867107970141df981541e8ae732c77": {
          "model_module": "@jupyter-widgets/base",
          "model_name": "LayoutModel",
          "model_module_version": "1.2.0",
          "state": {
            "_model_module": "@jupyter-widgets/base",
            "_model_module_version": "1.2.0",
            "_model_name": "LayoutModel",
            "_view_count": null,
            "_view_module": "@jupyter-widgets/base",
            "_view_module_version": "1.2.0",
            "_view_name": "LayoutView",
            "align_content": null,
            "align_items": null,
            "align_self": null,
            "border": null,
            "bottom": null,
            "display": null,
            "flex": null,
            "flex_flow": null,
            "grid_area": null,
            "grid_auto_columns": null,
            "grid_auto_flow": null,
            "grid_auto_rows": null,
            "grid_column": null,
            "grid_gap": null,
            "grid_row": null,
            "grid_template_areas": null,
            "grid_template_columns": null,
            "grid_template_rows": null,
            "height": null,
            "justify_content": null,
            "justify_items": null,
            "left": null,
            "margin": null,
            "max_height": null,
            "max_width": null,
            "min_height": null,
            "min_width": null,
            "object_fit": null,
            "object_position": null,
            "order": null,
            "overflow": null,
            "overflow_x": null,
            "overflow_y": null,
            "padding": null,
            "right": null,
            "top": null,
            "visibility": null,
            "width": null
          }
        },
        "7b3d4e161ce64b8ca1ef79eb1a178684": {
          "model_module": "@jupyter-widgets/controls",
          "model_name": "DescriptionStyleModel",
          "model_module_version": "1.5.0",
          "state": {
            "_model_module": "@jupyter-widgets/controls",
            "_model_module_version": "1.5.0",
            "_model_name": "DescriptionStyleModel",
            "_view_count": null,
            "_view_module": "@jupyter-widgets/base",
            "_view_module_version": "1.2.0",
            "_view_name": "StyleView",
            "description_width": ""
          }
        },
        "2f1aab7d6f184f16b9f6aa7b4c720ac7": {
          "model_module": "@jupyter-widgets/controls",
          "model_name": "HBoxModel",
          "model_module_version": "1.5.0",
          "state": {
            "_dom_classes": [],
            "_model_module": "@jupyter-widgets/controls",
            "_model_module_version": "1.5.0",
            "_model_name": "HBoxModel",
            "_view_count": null,
            "_view_module": "@jupyter-widgets/controls",
            "_view_module_version": "1.5.0",
            "_view_name": "HBoxView",
            "box_style": "",
            "children": [
              "IPY_MODEL_6d930514277843edaec9e85a8848c35c",
              "IPY_MODEL_575c0f8a2b0a492c8028f4f59c19065d",
              "IPY_MODEL_47c232a4de0f468489d1874b4e274a66"
            ],
            "layout": "IPY_MODEL_45d9d79635f648a59bdbbfb0f601adf6"
          }
        },
        "6d930514277843edaec9e85a8848c35c": {
          "model_module": "@jupyter-widgets/controls",
          "model_name": "HTMLModel",
          "model_module_version": "1.5.0",
          "state": {
            "_dom_classes": [],
            "_model_module": "@jupyter-widgets/controls",
            "_model_module_version": "1.5.0",
            "_model_name": "HTMLModel",
            "_view_count": null,
            "_view_module": "@jupyter-widgets/controls",
            "_view_module_version": "1.5.0",
            "_view_name": "HTMLView",
            "description": "",
            "description_tooltip": null,
            "layout": "IPY_MODEL_0938701327d44df7a08c2ebbfac4ad96",
            "placeholder": "​",
            "style": "IPY_MODEL_db71ff77aedc4f2fa74c756d3a00b1ba",
            "value": "100%"
          }
        },
        "575c0f8a2b0a492c8028f4f59c19065d": {
          "model_module": "@jupyter-widgets/controls",
          "model_name": "FloatProgressModel",
          "model_module_version": "1.5.0",
          "state": {
            "_dom_classes": [],
            "_model_module": "@jupyter-widgets/controls",
            "_model_module_version": "1.5.0",
            "_model_name": "FloatProgressModel",
            "_view_count": null,
            "_view_module": "@jupyter-widgets/controls",
            "_view_module_version": "1.5.0",
            "_view_name": "ProgressView",
            "bar_style": "success",
            "description": "",
            "description_tooltip": null,
            "layout": "IPY_MODEL_c83ecc951da64d1b9ed4719a1001dbd1",
            "max": 2,
            "min": 0,
            "orientation": "horizontal",
            "style": "IPY_MODEL_3eef5e3b9faf4c90af92d25f61d94620",
            "value": 2
          }
        },
        "47c232a4de0f468489d1874b4e274a66": {
          "model_module": "@jupyter-widgets/controls",
          "model_name": "HTMLModel",
          "model_module_version": "1.5.0",
          "state": {
            "_dom_classes": [],
            "_model_module": "@jupyter-widgets/controls",
            "_model_module_version": "1.5.0",
            "_model_name": "HTMLModel",
            "_view_count": null,
            "_view_module": "@jupyter-widgets/controls",
            "_view_module_version": "1.5.0",
            "_view_name": "HTMLView",
            "description": "",
            "description_tooltip": null,
            "layout": "IPY_MODEL_b9a70cd6b9ff4a86bcedce9c93b4d686",
            "placeholder": "​",
            "style": "IPY_MODEL_b6958cff698d40dba2658365c58e1c0a",
            "value": " 2/2 [00:01&lt;00:00,  1.47ba/s]"
          }
        },
        "45d9d79635f648a59bdbbfb0f601adf6": {
          "model_module": "@jupyter-widgets/base",
          "model_name": "LayoutModel",
          "model_module_version": "1.2.0",
          "state": {
            "_model_module": "@jupyter-widgets/base",
            "_model_module_version": "1.2.0",
            "_model_name": "LayoutModel",
            "_view_count": null,
            "_view_module": "@jupyter-widgets/base",
            "_view_module_version": "1.2.0",
            "_view_name": "LayoutView",
            "align_content": null,
            "align_items": null,
            "align_self": null,
            "border": null,
            "bottom": null,
            "display": null,
            "flex": null,
            "flex_flow": null,
            "grid_area": null,
            "grid_auto_columns": null,
            "grid_auto_flow": null,
            "grid_auto_rows": null,
            "grid_column": null,
            "grid_gap": null,
            "grid_row": null,
            "grid_template_areas": null,
            "grid_template_columns": null,
            "grid_template_rows": null,
            "height": null,
            "justify_content": null,
            "justify_items": null,
            "left": null,
            "margin": null,
            "max_height": null,
            "max_width": null,
            "min_height": null,
            "min_width": null,
            "object_fit": null,
            "object_position": null,
            "order": null,
            "overflow": null,
            "overflow_x": null,
            "overflow_y": null,
            "padding": null,
            "right": null,
            "top": null,
            "visibility": null,
            "width": null
          }
        },
        "0938701327d44df7a08c2ebbfac4ad96": {
          "model_module": "@jupyter-widgets/base",
          "model_name": "LayoutModel",
          "model_module_version": "1.2.0",
          "state": {
            "_model_module": "@jupyter-widgets/base",
            "_model_module_version": "1.2.0",
            "_model_name": "LayoutModel",
            "_view_count": null,
            "_view_module": "@jupyter-widgets/base",
            "_view_module_version": "1.2.0",
            "_view_name": "LayoutView",
            "align_content": null,
            "align_items": null,
            "align_self": null,
            "border": null,
            "bottom": null,
            "display": null,
            "flex": null,
            "flex_flow": null,
            "grid_area": null,
            "grid_auto_columns": null,
            "grid_auto_flow": null,
            "grid_auto_rows": null,
            "grid_column": null,
            "grid_gap": null,
            "grid_row": null,
            "grid_template_areas": null,
            "grid_template_columns": null,
            "grid_template_rows": null,
            "height": null,
            "justify_content": null,
            "justify_items": null,
            "left": null,
            "margin": null,
            "max_height": null,
            "max_width": null,
            "min_height": null,
            "min_width": null,
            "object_fit": null,
            "object_position": null,
            "order": null,
            "overflow": null,
            "overflow_x": null,
            "overflow_y": null,
            "padding": null,
            "right": null,
            "top": null,
            "visibility": null,
            "width": null
          }
        },
        "db71ff77aedc4f2fa74c756d3a00b1ba": {
          "model_module": "@jupyter-widgets/controls",
          "model_name": "DescriptionStyleModel",
          "model_module_version": "1.5.0",
          "state": {
            "_model_module": "@jupyter-widgets/controls",
            "_model_module_version": "1.5.0",
            "_model_name": "DescriptionStyleModel",
            "_view_count": null,
            "_view_module": "@jupyter-widgets/base",
            "_view_module_version": "1.2.0",
            "_view_name": "StyleView",
            "description_width": ""
          }
        },
        "c83ecc951da64d1b9ed4719a1001dbd1": {
          "model_module": "@jupyter-widgets/base",
          "model_name": "LayoutModel",
          "model_module_version": "1.2.0",
          "state": {
            "_model_module": "@jupyter-widgets/base",
            "_model_module_version": "1.2.0",
            "_model_name": "LayoutModel",
            "_view_count": null,
            "_view_module": "@jupyter-widgets/base",
            "_view_module_version": "1.2.0",
            "_view_name": "LayoutView",
            "align_content": null,
            "align_items": null,
            "align_self": null,
            "border": null,
            "bottom": null,
            "display": null,
            "flex": null,
            "flex_flow": null,
            "grid_area": null,
            "grid_auto_columns": null,
            "grid_auto_flow": null,
            "grid_auto_rows": null,
            "grid_column": null,
            "grid_gap": null,
            "grid_row": null,
            "grid_template_areas": null,
            "grid_template_columns": null,
            "grid_template_rows": null,
            "height": null,
            "justify_content": null,
            "justify_items": null,
            "left": null,
            "margin": null,
            "max_height": null,
            "max_width": null,
            "min_height": null,
            "min_width": null,
            "object_fit": null,
            "object_position": null,
            "order": null,
            "overflow": null,
            "overflow_x": null,
            "overflow_y": null,
            "padding": null,
            "right": null,
            "top": null,
            "visibility": null,
            "width": null
          }
        },
        "3eef5e3b9faf4c90af92d25f61d94620": {
          "model_module": "@jupyter-widgets/controls",
          "model_name": "ProgressStyleModel",
          "model_module_version": "1.5.0",
          "state": {
            "_model_module": "@jupyter-widgets/controls",
            "_model_module_version": "1.5.0",
            "_model_name": "ProgressStyleModel",
            "_view_count": null,
            "_view_module": "@jupyter-widgets/base",
            "_view_module_version": "1.2.0",
            "_view_name": "StyleView",
            "bar_color": null,
            "description_width": ""
          }
        },
        "b9a70cd6b9ff4a86bcedce9c93b4d686": {
          "model_module": "@jupyter-widgets/base",
          "model_name": "LayoutModel",
          "model_module_version": "1.2.0",
          "state": {
            "_model_module": "@jupyter-widgets/base",
            "_model_module_version": "1.2.0",
            "_model_name": "LayoutModel",
            "_view_count": null,
            "_view_module": "@jupyter-widgets/base",
            "_view_module_version": "1.2.0",
            "_view_name": "LayoutView",
            "align_content": null,
            "align_items": null,
            "align_self": null,
            "border": null,
            "bottom": null,
            "display": null,
            "flex": null,
            "flex_flow": null,
            "grid_area": null,
            "grid_auto_columns": null,
            "grid_auto_flow": null,
            "grid_auto_rows": null,
            "grid_column": null,
            "grid_gap": null,
            "grid_row": null,
            "grid_template_areas": null,
            "grid_template_columns": null,
            "grid_template_rows": null,
            "height": null,
            "justify_content": null,
            "justify_items": null,
            "left": null,
            "margin": null,
            "max_height": null,
            "max_width": null,
            "min_height": null,
            "min_width": null,
            "object_fit": null,
            "object_position": null,
            "order": null,
            "overflow": null,
            "overflow_x": null,
            "overflow_y": null,
            "padding": null,
            "right": null,
            "top": null,
            "visibility": null,
            "width": null
          }
        },
        "b6958cff698d40dba2658365c58e1c0a": {
          "model_module": "@jupyter-widgets/controls",
          "model_name": "DescriptionStyleModel",
          "model_module_version": "1.5.0",
          "state": {
            "_model_module": "@jupyter-widgets/controls",
            "_model_module_version": "1.5.0",
            "_model_name": "DescriptionStyleModel",
            "_view_count": null,
            "_view_module": "@jupyter-widgets/base",
            "_view_module_version": "1.2.0",
            "_view_name": "StyleView",
            "description_width": ""
          }
        },
        "4e776428267d4ec091df5a34715b0258": {
          "model_module": "@jupyter-widgets/controls",
          "model_name": "HBoxModel",
          "model_module_version": "1.5.0",
          "state": {
            "_dom_classes": [],
            "_model_module": "@jupyter-widgets/controls",
            "_model_module_version": "1.5.0",
            "_model_name": "HBoxModel",
            "_view_count": null,
            "_view_module": "@jupyter-widgets/controls",
            "_view_module_version": "1.5.0",
            "_view_name": "HBoxView",
            "box_style": "",
            "children": [
              "IPY_MODEL_3ddcc0cd5d7c46baa4c772586d992263",
              "IPY_MODEL_f2e56a592af44847a0b3d75310f10e83",
              "IPY_MODEL_71c3700d8bf440929399a9cf44a64bfa"
            ],
            "layout": "IPY_MODEL_a2ac683e4abd4f82875ae6055833a5fd"
          }
        },
        "3ddcc0cd5d7c46baa4c772586d992263": {
          "model_module": "@jupyter-widgets/controls",
          "model_name": "HTMLModel",
          "model_module_version": "1.5.0",
          "state": {
            "_dom_classes": [],
            "_model_module": "@jupyter-widgets/controls",
            "_model_module_version": "1.5.0",
            "_model_name": "HTMLModel",
            "_view_count": null,
            "_view_module": "@jupyter-widgets/controls",
            "_view_module_version": "1.5.0",
            "_view_name": "HTMLView",
            "description": "",
            "description_tooltip": null,
            "layout": "IPY_MODEL_a709e9e78c9a4cdeacd143b9194af5df",
            "placeholder": "​",
            "style": "IPY_MODEL_55555226802445288ef090b387f60860",
            "value": "Epoch ...:   0%"
          }
        },
        "f2e56a592af44847a0b3d75310f10e83": {
          "model_module": "@jupyter-widgets/controls",
          "model_name": "FloatProgressModel",
          "model_module_version": "1.5.0",
          "state": {
            "_dom_classes": [],
            "_model_module": "@jupyter-widgets/controls",
            "_model_module_version": "1.5.0",
            "_model_name": "FloatProgressModel",
            "_view_count": null,
            "_view_module": "@jupyter-widgets/controls",
            "_view_module_version": "1.5.0",
            "_view_name": "ProgressView",
            "bar_style": "",
            "description": "",
            "description_tooltip": null,
            "layout": "IPY_MODEL_fecbcf20ef7b44959c94e3091377bc0f",
            "max": 1000,
            "min": 0,
            "orientation": "horizontal",
            "style": "IPY_MODEL_eff4447999aa4ee4a519d4be8507422b",
            "value": 0
          }
        },
        "71c3700d8bf440929399a9cf44a64bfa": {
          "model_module": "@jupyter-widgets/controls",
          "model_name": "HTMLModel",
          "model_module_version": "1.5.0",
          "state": {
            "_dom_classes": [],
            "_model_module": "@jupyter-widgets/controls",
            "_model_module_version": "1.5.0",
            "_model_name": "HTMLModel",
            "_view_count": null,
            "_view_module": "@jupyter-widgets/controls",
            "_view_module_version": "1.5.0",
            "_view_name": "HTMLView",
            "description": "",
            "description_tooltip": null,
            "layout": "IPY_MODEL_0d0368b94b2241a088d0a4c2b99456fa",
            "placeholder": "​",
            "style": "IPY_MODEL_c41f2362755244879d88144f802ab247",
            "value": " 0/1000 [00:00&lt;?, ?it/s]"
          }
        },
        "a2ac683e4abd4f82875ae6055833a5fd": {
          "model_module": "@jupyter-widgets/base",
          "model_name": "LayoutModel",
          "model_module_version": "1.2.0",
          "state": {
            "_model_module": "@jupyter-widgets/base",
            "_model_module_version": "1.2.0",
            "_model_name": "LayoutModel",
            "_view_count": null,
            "_view_module": "@jupyter-widgets/base",
            "_view_module_version": "1.2.0",
            "_view_name": "LayoutView",
            "align_content": null,
            "align_items": null,
            "align_self": null,
            "border": null,
            "bottom": null,
            "display": null,
            "flex": null,
            "flex_flow": null,
            "grid_area": null,
            "grid_auto_columns": null,
            "grid_auto_flow": null,
            "grid_auto_rows": null,
            "grid_column": null,
            "grid_gap": null,
            "grid_row": null,
            "grid_template_areas": null,
            "grid_template_columns": null,
            "grid_template_rows": null,
            "height": null,
            "justify_content": null,
            "justify_items": null,
            "left": null,
            "margin": null,
            "max_height": null,
            "max_width": null,
            "min_height": null,
            "min_width": null,
            "object_fit": null,
            "object_position": null,
            "order": null,
            "overflow": null,
            "overflow_x": null,
            "overflow_y": null,
            "padding": null,
            "right": null,
            "top": null,
            "visibility": null,
            "width": null
          }
        },
        "a709e9e78c9a4cdeacd143b9194af5df": {
          "model_module": "@jupyter-widgets/base",
          "model_name": "LayoutModel",
          "model_module_version": "1.2.0",
          "state": {
            "_model_module": "@jupyter-widgets/base",
            "_model_module_version": "1.2.0",
            "_model_name": "LayoutModel",
            "_view_count": null,
            "_view_module": "@jupyter-widgets/base",
            "_view_module_version": "1.2.0",
            "_view_name": "LayoutView",
            "align_content": null,
            "align_items": null,
            "align_self": null,
            "border": null,
            "bottom": null,
            "display": null,
            "flex": null,
            "flex_flow": null,
            "grid_area": null,
            "grid_auto_columns": null,
            "grid_auto_flow": null,
            "grid_auto_rows": null,
            "grid_column": null,
            "grid_gap": null,
            "grid_row": null,
            "grid_template_areas": null,
            "grid_template_columns": null,
            "grid_template_rows": null,
            "height": null,
            "justify_content": null,
            "justify_items": null,
            "left": null,
            "margin": null,
            "max_height": null,
            "max_width": null,
            "min_height": null,
            "min_width": null,
            "object_fit": null,
            "object_position": null,
            "order": null,
            "overflow": null,
            "overflow_x": null,
            "overflow_y": null,
            "padding": null,
            "right": null,
            "top": null,
            "visibility": null,
            "width": null
          }
        },
        "55555226802445288ef090b387f60860": {
          "model_module": "@jupyter-widgets/controls",
          "model_name": "DescriptionStyleModel",
          "model_module_version": "1.5.0",
          "state": {
            "_model_module": "@jupyter-widgets/controls",
            "_model_module_version": "1.5.0",
            "_model_name": "DescriptionStyleModel",
            "_view_count": null,
            "_view_module": "@jupyter-widgets/base",
            "_view_module_version": "1.2.0",
            "_view_name": "StyleView",
            "description_width": ""
          }
        },
        "fecbcf20ef7b44959c94e3091377bc0f": {
          "model_module": "@jupyter-widgets/base",
          "model_name": "LayoutModel",
          "model_module_version": "1.2.0",
          "state": {
            "_model_module": "@jupyter-widgets/base",
            "_model_module_version": "1.2.0",
            "_model_name": "LayoutModel",
            "_view_count": null,
            "_view_module": "@jupyter-widgets/base",
            "_view_module_version": "1.2.0",
            "_view_name": "LayoutView",
            "align_content": null,
            "align_items": null,
            "align_self": null,
            "border": null,
            "bottom": null,
            "display": null,
            "flex": null,
            "flex_flow": null,
            "grid_area": null,
            "grid_auto_columns": null,
            "grid_auto_flow": null,
            "grid_auto_rows": null,
            "grid_column": null,
            "grid_gap": null,
            "grid_row": null,
            "grid_template_areas": null,
            "grid_template_columns": null,
            "grid_template_rows": null,
            "height": null,
            "justify_content": null,
            "justify_items": null,
            "left": null,
            "margin": null,
            "max_height": null,
            "max_width": null,
            "min_height": null,
            "min_width": null,
            "object_fit": null,
            "object_position": null,
            "order": null,
            "overflow": null,
            "overflow_x": null,
            "overflow_y": null,
            "padding": null,
            "right": null,
            "top": null,
            "visibility": null,
            "width": null
          }
        },
        "eff4447999aa4ee4a519d4be8507422b": {
          "model_module": "@jupyter-widgets/controls",
          "model_name": "ProgressStyleModel",
          "model_module_version": "1.5.0",
          "state": {
            "_model_module": "@jupyter-widgets/controls",
            "_model_module_version": "1.5.0",
            "_model_name": "ProgressStyleModel",
            "_view_count": null,
            "_view_module": "@jupyter-widgets/base",
            "_view_module_version": "1.2.0",
            "_view_name": "StyleView",
            "bar_color": null,
            "description_width": ""
          }
        },
        "0d0368b94b2241a088d0a4c2b99456fa": {
          "model_module": "@jupyter-widgets/base",
          "model_name": "LayoutModel",
          "model_module_version": "1.2.0",
          "state": {
            "_model_module": "@jupyter-widgets/base",
            "_model_module_version": "1.2.0",
            "_model_name": "LayoutModel",
            "_view_count": null,
            "_view_module": "@jupyter-widgets/base",
            "_view_module_version": "1.2.0",
            "_view_name": "LayoutView",
            "align_content": null,
            "align_items": null,
            "align_self": null,
            "border": null,
            "bottom": null,
            "display": null,
            "flex": null,
            "flex_flow": null,
            "grid_area": null,
            "grid_auto_columns": null,
            "grid_auto_flow": null,
            "grid_auto_rows": null,
            "grid_column": null,
            "grid_gap": null,
            "grid_row": null,
            "grid_template_areas": null,
            "grid_template_columns": null,
            "grid_template_rows": null,
            "height": null,
            "justify_content": null,
            "justify_items": null,
            "left": null,
            "margin": null,
            "max_height": null,
            "max_width": null,
            "min_height": null,
            "min_width": null,
            "object_fit": null,
            "object_position": null,
            "order": null,
            "overflow": null,
            "overflow_x": null,
            "overflow_y": null,
            "padding": null,
            "right": null,
            "top": null,
            "visibility": null,
            "width": null
          }
        },
        "c41f2362755244879d88144f802ab247": {
          "model_module": "@jupyter-widgets/controls",
          "model_name": "DescriptionStyleModel",
          "model_module_version": "1.5.0",
          "state": {
            "_model_module": "@jupyter-widgets/controls",
            "_model_module_version": "1.5.0",
            "_model_name": "DescriptionStyleModel",
            "_view_count": null,
            "_view_module": "@jupyter-widgets/base",
            "_view_module_version": "1.2.0",
            "_view_name": "StyleView",
            "description_width": ""
          }
        },
        "9f2aa1c6e6ef4ba19b8bac7fc65ff691": {
          "model_module": "@jupyter-widgets/controls",
          "model_name": "HBoxModel",
          "model_module_version": "1.5.0",
          "state": {
            "_dom_classes": [],
            "_model_module": "@jupyter-widgets/controls",
            "_model_module_version": "1.5.0",
            "_model_name": "HBoxModel",
            "_view_count": null,
            "_view_module": "@jupyter-widgets/controls",
            "_view_module_version": "1.5.0",
            "_view_name": "HBoxView",
            "box_style": "",
            "children": [
              "IPY_MODEL_c0560c27917e4e349b899766be1ce400",
              "IPY_MODEL_b5d766ff26f84dfca3940aed4440c3c7",
              "IPY_MODEL_99b7fd7558f04f228a11bc1e25401f82"
            ],
            "layout": "IPY_MODEL_75b580f596c84da2a167b763bf59b000"
          }
        },
        "c0560c27917e4e349b899766be1ce400": {
          "model_module": "@jupyter-widgets/controls",
          "model_name": "HTMLModel",
          "model_module_version": "1.5.0",
          "state": {
            "_dom_classes": [],
            "_model_module": "@jupyter-widgets/controls",
            "_model_module_version": "1.5.0",
            "_model_name": "HTMLModel",
            "_view_count": null,
            "_view_module": "@jupyter-widgets/controls",
            "_view_module_version": "1.5.0",
            "_view_name": "HTMLView",
            "description": "",
            "description_tooltip": null,
            "layout": "IPY_MODEL_3ff66e4661f34c879af7d905f1041def",
            "placeholder": "​",
            "style": "IPY_MODEL_840231ba1e6144f09862827f7d7fe7a3",
            "value": "Training...:  27%"
          }
        },
        "b5d766ff26f84dfca3940aed4440c3c7": {
          "model_module": "@jupyter-widgets/controls",
          "model_name": "FloatProgressModel",
          "model_module_version": "1.5.0",
          "state": {
            "_dom_classes": [],
            "_model_module": "@jupyter-widgets/controls",
            "_model_module_version": "1.5.0",
            "_model_name": "FloatProgressModel",
            "_view_count": null,
            "_view_module": "@jupyter-widgets/controls",
            "_view_module_version": "1.5.0",
            "_view_name": "ProgressView",
            "bar_style": "",
            "description": "",
            "description_tooltip": null,
            "layout": "IPY_MODEL_6bbbae3b98b341eca999c4cd41b0b786",
            "max": 11,
            "min": 0,
            "orientation": "horizontal",
            "style": "IPY_MODEL_960d698cdc954502a2a8cf2da7137491",
            "value": 3
          }
        },
        "99b7fd7558f04f228a11bc1e25401f82": {
          "model_module": "@jupyter-widgets/controls",
          "model_name": "HTMLModel",
          "model_module_version": "1.5.0",
          "state": {
            "_dom_classes": [],
            "_model_module": "@jupyter-widgets/controls",
            "_model_module_version": "1.5.0",
            "_model_name": "HTMLModel",
            "_view_count": null,
            "_view_module": "@jupyter-widgets/controls",
            "_view_module_version": "1.5.0",
            "_view_name": "HTMLView",
            "description": "",
            "description_tooltip": null,
            "layout": "IPY_MODEL_0bf42538d83d44b89741ab33b9ee4f7e",
            "placeholder": "​",
            "style": "IPY_MODEL_8cfc417057c74125ac9f096cc3f124d0",
            "value": " 3/11 [02:10&lt;04:41, 35.22s/it]"
          }
        },
        "75b580f596c84da2a167b763bf59b000": {
          "model_module": "@jupyter-widgets/base",
          "model_name": "LayoutModel",
          "model_module_version": "1.2.0",
          "state": {
            "_model_module": "@jupyter-widgets/base",
            "_model_module_version": "1.2.0",
            "_model_name": "LayoutModel",
            "_view_count": null,
            "_view_module": "@jupyter-widgets/base",
            "_view_module_version": "1.2.0",
            "_view_name": "LayoutView",
            "align_content": null,
            "align_items": null,
            "align_self": null,
            "border": null,
            "bottom": null,
            "display": null,
            "flex": null,
            "flex_flow": null,
            "grid_area": null,
            "grid_auto_columns": null,
            "grid_auto_flow": null,
            "grid_auto_rows": null,
            "grid_column": null,
            "grid_gap": null,
            "grid_row": null,
            "grid_template_areas": null,
            "grid_template_columns": null,
            "grid_template_rows": null,
            "height": null,
            "justify_content": null,
            "justify_items": null,
            "left": null,
            "margin": null,
            "max_height": null,
            "max_width": null,
            "min_height": null,
            "min_width": null,
            "object_fit": null,
            "object_position": null,
            "order": null,
            "overflow": null,
            "overflow_x": null,
            "overflow_y": null,
            "padding": null,
            "right": null,
            "top": null,
            "visibility": null,
            "width": null
          }
        },
        "3ff66e4661f34c879af7d905f1041def": {
          "model_module": "@jupyter-widgets/base",
          "model_name": "LayoutModel",
          "model_module_version": "1.2.0",
          "state": {
            "_model_module": "@jupyter-widgets/base",
            "_model_module_version": "1.2.0",
            "_model_name": "LayoutModel",
            "_view_count": null,
            "_view_module": "@jupyter-widgets/base",
            "_view_module_version": "1.2.0",
            "_view_name": "LayoutView",
            "align_content": null,
            "align_items": null,
            "align_self": null,
            "border": null,
            "bottom": null,
            "display": null,
            "flex": null,
            "flex_flow": null,
            "grid_area": null,
            "grid_auto_columns": null,
            "grid_auto_flow": null,
            "grid_auto_rows": null,
            "grid_column": null,
            "grid_gap": null,
            "grid_row": null,
            "grid_template_areas": null,
            "grid_template_columns": null,
            "grid_template_rows": null,
            "height": null,
            "justify_content": null,
            "justify_items": null,
            "left": null,
            "margin": null,
            "max_height": null,
            "max_width": null,
            "min_height": null,
            "min_width": null,
            "object_fit": null,
            "object_position": null,
            "order": null,
            "overflow": null,
            "overflow_x": null,
            "overflow_y": null,
            "padding": null,
            "right": null,
            "top": null,
            "visibility": null,
            "width": null
          }
        },
        "840231ba1e6144f09862827f7d7fe7a3": {
          "model_module": "@jupyter-widgets/controls",
          "model_name": "DescriptionStyleModel",
          "model_module_version": "1.5.0",
          "state": {
            "_model_module": "@jupyter-widgets/controls",
            "_model_module_version": "1.5.0",
            "_model_name": "DescriptionStyleModel",
            "_view_count": null,
            "_view_module": "@jupyter-widgets/base",
            "_view_module_version": "1.2.0",
            "_view_name": "StyleView",
            "description_width": ""
          }
        },
        "6bbbae3b98b341eca999c4cd41b0b786": {
          "model_module": "@jupyter-widgets/base",
          "model_name": "LayoutModel",
          "model_module_version": "1.2.0",
          "state": {
            "_model_module": "@jupyter-widgets/base",
            "_model_module_version": "1.2.0",
            "_model_name": "LayoutModel",
            "_view_count": null,
            "_view_module": "@jupyter-widgets/base",
            "_view_module_version": "1.2.0",
            "_view_name": "LayoutView",
            "align_content": null,
            "align_items": null,
            "align_self": null,
            "border": null,
            "bottom": null,
            "display": null,
            "flex": null,
            "flex_flow": null,
            "grid_area": null,
            "grid_auto_columns": null,
            "grid_auto_flow": null,
            "grid_auto_rows": null,
            "grid_column": null,
            "grid_gap": null,
            "grid_row": null,
            "grid_template_areas": null,
            "grid_template_columns": null,
            "grid_template_rows": null,
            "height": null,
            "justify_content": null,
            "justify_items": null,
            "left": null,
            "margin": null,
            "max_height": null,
            "max_width": null,
            "min_height": null,
            "min_width": null,
            "object_fit": null,
            "object_position": null,
            "order": null,
            "overflow": null,
            "overflow_x": null,
            "overflow_y": null,
            "padding": null,
            "right": null,
            "top": null,
            "visibility": null,
            "width": null
          }
        },
        "960d698cdc954502a2a8cf2da7137491": {
          "model_module": "@jupyter-widgets/controls",
          "model_name": "ProgressStyleModel",
          "model_module_version": "1.5.0",
          "state": {
            "_model_module": "@jupyter-widgets/controls",
            "_model_module_version": "1.5.0",
            "_model_name": "ProgressStyleModel",
            "_view_count": null,
            "_view_module": "@jupyter-widgets/base",
            "_view_module_version": "1.2.0",
            "_view_name": "StyleView",
            "bar_color": null,
            "description_width": ""
          }
        },
        "0bf42538d83d44b89741ab33b9ee4f7e": {
          "model_module": "@jupyter-widgets/base",
          "model_name": "LayoutModel",
          "model_module_version": "1.2.0",
          "state": {
            "_model_module": "@jupyter-widgets/base",
            "_model_module_version": "1.2.0",
            "_model_name": "LayoutModel",
            "_view_count": null,
            "_view_module": "@jupyter-widgets/base",
            "_view_module_version": "1.2.0",
            "_view_name": "LayoutView",
            "align_content": null,
            "align_items": null,
            "align_self": null,
            "border": null,
            "bottom": null,
            "display": null,
            "flex": null,
            "flex_flow": null,
            "grid_area": null,
            "grid_auto_columns": null,
            "grid_auto_flow": null,
            "grid_auto_rows": null,
            "grid_column": null,
            "grid_gap": null,
            "grid_row": null,
            "grid_template_areas": null,
            "grid_template_columns": null,
            "grid_template_rows": null,
            "height": null,
            "justify_content": null,
            "justify_items": null,
            "left": null,
            "margin": null,
            "max_height": null,
            "max_width": null,
            "min_height": null,
            "min_width": null,
            "object_fit": null,
            "object_position": null,
            "order": null,
            "overflow": null,
            "overflow_x": null,
            "overflow_y": null,
            "padding": null,
            "right": null,
            "top": null,
            "visibility": null,
            "width": null
          }
        },
        "8cfc417057c74125ac9f096cc3f124d0": {
          "model_module": "@jupyter-widgets/controls",
          "model_name": "DescriptionStyleModel",
          "model_module_version": "1.5.0",
          "state": {
            "_model_module": "@jupyter-widgets/controls",
            "_model_module_version": "1.5.0",
            "_model_name": "DescriptionStyleModel",
            "_view_count": null,
            "_view_module": "@jupyter-widgets/base",
            "_view_module_version": "1.2.0",
            "_view_name": "StyleView",
            "description_width": ""
          }
        }
      }
    }
  },
  "nbformat": 4,
  "nbformat_minor": 0
}